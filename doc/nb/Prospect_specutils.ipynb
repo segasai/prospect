{
 "cells": [
  {
   "cell_type": "markdown",
   "metadata": {},
   "source": [
    "# prospect + specutils\n",
    "\n",
    "Project: Convert DESI, SDSS & eBOSS spectra to specutils container objects, and modify prospect to accept those objects."
   ]
  },
  {
   "cell_type": "code",
   "execution_count": 8,
   "metadata": {},
   "outputs": [],
   "source": [
    "import os\n",
    "from astropy.table import Table\n",
    "from specutils import Spectrum1D, SpectrumCollection, SpectrumList\n",
    "from prospect.specutils import read_spectra, read_spPlate"
   ]
  },
  {
   "cell_type": "markdown",
   "metadata": {},
   "source": [
    "## DESI spectra file\n",
    "\n",
    "DESI spectra are stored by \"channel\" (\"channel\", \"band\" and \"spectrograph arm\" are used interchangably).  There are 10 spectrographs, each with three arms, called 'b', 'r' & 'z'.  In a DESI spectra file, all arms are grouped together, with a common wavelength solution for each arm, but the solutions do not overlap or have the same shape.  Thus we can't use a Spectrum1D or SpectrumCollection object, but we can use a SpectrumList containing three Spectrum1D objects."
   ]
  },
  {
   "cell_type": "code",
   "execution_count": 2,
   "metadata": {},
   "outputs": [
    {
     "name": "stdout",
     "output_type": "stream",
     "text": [
      "/Users/weaver/Documents/Data/desi/datachallenge/reference_runs/19.12/spectro/redux/mini/spectra-64/53/5305/spectra-64-5305.fits\n",
      "/Users/weaver/Documents/Data/desi/datachallenge/reference_runs/19.12/spectro/redux/mini/spectra-64/53/5305/zbest-64-5305.fits\n"
     ]
    }
   ],
   "source": [
    "os.environ['DESI_SPECTRO_REDUX'] = os.path.join(os.environ['DESI_ROOT'], 'datachallenge', 'reference_runs', '19.12', 'spectro', 'redux')\n",
    "os.environ['SPECPROD'] = 'mini'\n",
    "nside = '64'\n",
    "pixnum = '5305'\n",
    "pixgroup = pixnum[0:2]\n",
    "desi_spectra = os.path.join(os.environ['DESI_SPECTRO_REDUX'], os.environ['SPECPROD'],\n",
    "                            f'spectra-{nside}', pixgroup, pixnum, f'spectra-{nside}-{pixnum}.fits')\n",
    "desi_redshifts = os.path.join(os.environ['DESI_SPECTRO_REDUX'], os.environ['SPECPROD'],\n",
    "                              f'spectra-{nside}', pixgroup, pixnum, f'zbest-{nside}-{pixnum}.fits')\n",
    "print(desi_spectra)\n",
    "print(desi_redshifts)"
   ]
  },
  {
   "cell_type": "markdown",
   "metadata": {},
   "source": [
    "## SDSS/eBOSS spPlate file\n",
    "\n",
    "SDSS spectra are stored per-plate in spPlate files.  These contain 640 spectra for the original SDSS spectrograph or 1000 spectra for the BOSS/eBOSS spectrograph.  All spPlate files have a common wavelength solution, so a spPlate file can be represented by a Spectrum1D object."
   ]
  },
  {
   "cell_type": "code",
   "execution_count": 3,
   "metadata": {},
   "outputs": [
    {
     "name": "stdout",
     "output_type": "stream",
     "text": [
      "/Users/weaver/Documents/Data/sdss/dr16/sdss/spectro/redux/26/2955/spPlate-2955-54562.fits\n",
      "/Users/weaver/Documents/Data/sdss/dr16/sdss/spectro/redux/26/2955/spZbest-2955-54562.fits\n"
     ]
    }
   ],
   "source": [
    "os.environ['SPECTRO_REDUX'] = os.path.join(os.environ['HOME'], 'Documents', 'Data', 'sdss', 'dr16', 'sdss', 'spectro', 'redux')\n",
    "run2d = '26'\n",
    "plate = '2955'\n",
    "mjd = '54562'\n",
    "sdss_spectra = os.path.join(os.environ['SPECTRO_REDUX'], run2d, plate, f'spPlate-{plate}-{mjd}.fits')\n",
    "sdss_redshifts = os.path.join(os.environ['SPECTRO_REDUX'], run2d, plate, f'spZbest-{plate}-{mjd}.fits')\n",
    "print(sdss_spectra)\n",
    "print(sdss_redshifts)"
   ]
  },
  {
   "cell_type": "code",
   "execution_count": 4,
   "metadata": {},
   "outputs": [
    {
     "name": "stdout",
     "output_type": "stream",
     "text": [
      "/Users/weaver/Documents/Data/sdss/dr16/sdss/spectro/redux/v5_13_0/9599/spPlate-9599-58131.fits\n",
      "/Users/weaver/Documents/Data/sdss/dr16/sdss/spectro/redux/v5_13_0/9599/v5_13_0/spZbest-9599-58131.fits\n"
     ]
    }
   ],
   "source": [
    "run2d = 'v5_13_0'\n",
    "plate = '9599'\n",
    "mjd = '58131'\n",
    "eboss_spectra = os.path.join(os.environ['SPECTRO_REDUX'], run2d, plate, f'spPlate-{plate}-{mjd}.fits')\n",
    "eboss_redshifts = os.path.join(os.environ['SPECTRO_REDUX'], run2d, plate, run2d, f'spZbest-{plate}-{mjd}.fits')\n",
    "print(eboss_spectra)\n",
    "print(eboss_redshifts)"
   ]
  },
  {
   "cell_type": "code",
   "execution_count": 5,
   "metadata": {},
   "outputs": [],
   "source": [
    "for f in (desi_spectra, desi_redshifts, sdss_spectra, sdss_redshifts, eboss_spectra, eboss_redshifts):\n",
    "    assert os.path.exists(f)"
   ]
  },
  {
   "cell_type": "code",
   "execution_count": 6,
   "metadata": {},
   "outputs": [
    {
     "data": {
      "text/plain": [
       "[<Spectrum1D(flux=<Quantity [[-0.84117043, -0.68834341, -1.40195751, ..., -0.59830803,\n",
       "              5.19148731,  0.35107699],\n",
       "            [-0.56885755,  1.45553529,  6.3197751 , ...,  0.25085509,\n",
       "              3.68603396, -2.282166  ],\n",
       "            [-2.48546124,  3.44139385, -6.46033764, ..., -2.77618814,\n",
       "             -0.15636389, -2.45203424],\n",
       "            ...,\n",
       "            [ 3.57696438,  6.76710939,  3.24615264, ..., -6.3416853 ,\n",
       "             -3.2689023 , -5.22456694],\n",
       "            [ 0.77733421, 12.95565128,  4.07372427, ..., -5.95146942,\n",
       "             10.68841171,  2.36848235],\n",
       "            [-2.92037797,  3.95976591, 12.81771183, ..., 32.75897217,\n",
       "             37.15966797, 17.1248188 ]] 1e-17 erg / (Angstrom cm2 s)>, spectral_axis=<SpectralCoord [3569.3, 3570.1, 3570.9, ..., 5946.9, 5947.7, 5948.5] Angstrom, \n",
       " \tradial_velocity=0.0 km / s, \n",
       " \tredshift=0.0, \n",
       " \tdoppler_rest=0.0 Angstrom, \n",
       " \tdoppler_convention=None, \n",
       " \tobserver=None, \n",
       " \ttarget=None>, uncertainty=InverseVariance([[0.12316658, 0.0637981 , 0.05455828, ..., 0.11563008,\n",
       "                   0.12867688, 0.21286947],\n",
       "                  [0.13415943, 0.0668001 , 0.05094654, ..., 0.11108465,\n",
       "                   0.12374524, 0.22409558],\n",
       "                  [0.12646796, 0.06354168, 0.0512839 , ..., 0.10754328,\n",
       "                   0.11672084, 0.20874298],\n",
       "                  ...,\n",
       "                  [0.04445418, 0.03152679, 0.02798623, ..., 0.04539468,\n",
       "                   0.03922346, 0.07011973],\n",
       "                  [0.0427029 , 0.02942186, 0.02711413, ..., 0.04310448,\n",
       "                   0.03932934, 0.06969756],\n",
       "                  [0.04031469, 0.03000951, 0.02677498, ..., 0.02749693,\n",
       "                   0.02328235, 0.04505272]]))>,\n",
       " <Spectrum1D(flux=<Quantity [[ 3.58488989, -2.88699007,  3.29840684, ..., -2.1375072 ,\n",
       "              2.50259876, -0.32168764],\n",
       "            [-2.72191453, -3.47207475,  0.56694424, ...,  0.09492168,\n",
       "              0.42439282, -0.30707118],\n",
       "            [-2.91458559, -3.92176604,  4.67824745, ..., -0.22962935,\n",
       "             -0.19125578,  1.65883124],\n",
       "            ...,\n",
       "            [10.18720341,  3.48948979,  0.05699292, ..., -4.24666834,\n",
       "              1.10829878,  1.74838924],\n",
       "            [-4.48400736, -1.91347992, -2.51368475, ...,  0.72843528,\n",
       "              0.58967155,  0.59573352],\n",
       "            [17.1606884 , 42.65958786,  1.4564693 , ..., 42.0552063 ,\n",
       "             33.95519257, 29.4672718 ]] 1e-17 erg / (Angstrom cm2 s)>, spectral_axis=<SpectralCoord [5625.3, 5626.1, 5626.9, ..., 7738.9, 7739.7, 7740.5] Angstrom, \n",
       " \tradial_velocity=0.0 km / s, \n",
       " \tredshift=0.0, \n",
       " \tdoppler_rest=0.0 Angstrom, \n",
       " \tdoppler_convention=None, \n",
       " \tobserver=None, \n",
       " \ttarget=None>, uncertainty=InverseVariance([[0.09006923, 0.06066458, 0.07003282, ..., 0.40074441,\n",
       "                   0.47144979, 0.93796211],\n",
       "                  [0.09505966, 0.05961636, 0.07143223, ..., 0.43591577,\n",
       "                   0.48351303, 1.01046312],\n",
       "                  [0.09238756, 0.06121486, 0.07097872, ..., 0.44625327,\n",
       "                   0.46921661, 1.00049078],\n",
       "                  ...,\n",
       "                  [0.03527156, 0.01875813, 0.01883602, ..., 0.15826195,\n",
       "                   0.16421914, 0.29331464],\n",
       "                  [0.03367652, 0.01914653, 0.01751704, ..., 0.14622851,\n",
       "                   0.17886993, 0.27899674],\n",
       "                  [0.02328431, 0.01215928, 0.0113548 , ..., 0.05431704,\n",
       "                   0.05982325, 0.09838261]]))>,\n",
       " <Spectrum1D(flux=<Quantity [[-4.02981848e-01,  2.41264105e+00, -3.57842371e-02, ...,\n",
       "              5.31621158e-01,  1.10330582e+00,  3.56524527e-01],\n",
       "            [ 1.68927467e+00,  1.63346374e+00,  2.69975948e+00, ...,\n",
       "              6.15160286e-01,  8.14994931e-01,  5.53386271e-01],\n",
       "            [ 9.67163965e-02, -2.86135916e-02,  9.79298949e-01, ...,\n",
       "             -4.00980525e-02, -1.48971170e-01, -1.60010546e-01],\n",
       "            ...,\n",
       "            [ 1.36688316e+00,  1.15100956e+00, -5.48066974e-01, ...,\n",
       "              2.88751841e-01,  2.65815109e-01,  1.74977228e-01],\n",
       "            [ 1.69777942e+00,  2.82736421e+00,  5.05858612e+00, ...,\n",
       "              1.02621353e+00, -5.11248335e-02,  5.85847020e-01],\n",
       "            [ 2.79825649e+01,  5.24883385e+01,  4.48828239e+01, ...,\n",
       "              3.47560425e+01,  3.18324165e+01,  2.31360035e+01]] 1e-17 erg / (Angstrom cm2 s)>, spectral_axis=<SpectralCoord [7435.3, 7436.1, 7436.9, ..., 9832.1, 9832.9, 9833.7] Angstrom, \n",
       " \tradial_velocity=0.0 km / s, \n",
       " \tredshift=0.0, \n",
       " \tdoppler_rest=0.0 Angstrom, \n",
       " \tdoppler_convention=None, \n",
       " \tobserver=None, \n",
       " \ttarget=None>, uncertainty=InverseVariance([[ 0.48970664,  0.24910745,  0.22897796, ...,  4.55432844,\n",
       "                    8.39049625, 19.01391029],\n",
       "                  [ 0.4831816 ,  0.24451587,  0.23461881, ...,  4.91488409,\n",
       "                    9.00806427, 20.95567131],\n",
       "                  [ 0.50234681,  0.25637004,  0.23089245, ...,  4.8558917 ,\n",
       "                    9.0883894 , 20.76674271],\n",
       "                  ...,\n",
       "                  [ 0.15127261,  0.08818614,  0.071511  , ...,  2.59159231,\n",
       "                    4.14663458, 10.55543995],\n",
       "                  [ 0.15133028,  0.0868739 ,  0.06906249, ...,  2.51916075,\n",
       "                    4.08136511, 10.07121658],\n",
       "                  [ 0.06061597,  0.02774519,  0.02576531, ...,  0.56503087,\n",
       "                    0.71057278,  1.4536109 ]]))>]"
      ]
     },
     "execution_count": 6,
     "metadata": {},
     "output_type": "execute_result"
    }
   ],
   "source": [
    "desi = read_spectra(desi_spectra)\n",
    "desi_z = Table.read(desi_redshifts, 'ZBEST')\n",
    "desi"
   ]
  },
  {
   "cell_type": "code",
   "execution_count": 9,
   "metadata": {},
   "outputs": [
    {
     "name": "stderr",
     "output_type": "stream",
     "text": [
      "WARNING: FITSFixedWarning: RADECSYS= 'FK5 ' / \n",
      "the RADECSYS keyword is deprecated, use RADESYSa. [astropy.wcs.wcs]\n",
      "WARNING:astropy:FITSFixedWarning: RADECSYS= 'FK5 ' / \n",
      "the RADECSYS keyword is deprecated, use RADESYSa.\n",
      "WARNING: FITSFixedWarning: PLATEID = 2955 / Plate Id \n",
      "a string value was expected. [astropy.wcs.wcs]\n",
      "WARNING:astropy:FITSFixedWarning: PLATEID = 2955 / Plate Id \n",
      "a string value was expected.\n",
      "WARNING: FITSFixedWarning: 'cdfix' made the change 'Success'. [astropy.wcs.wcs]\n",
      "WARNING:astropy:FITSFixedWarning: 'cdfix' made the change 'Success'.\n"
     ]
    }
   ],
   "source": [
    "sdss = read_spPlate(sdss_spectra)\n",
    "sdss_z = Table.read(sdss_redshifts, 1)"
   ]
  },
  {
   "cell_type": "code",
   "execution_count": 10,
   "metadata": {},
   "outputs": [
    {
     "data": {
      "text/plain": [
       "<Spectrum1D(flux=<Quantity [[11.0880165 , 11.084556  , 11.081101  , ..., 11.787075  ,\n",
       "            11.787052  , 11.787028  ],\n",
       "           [ 4.371129  ,  4.36966   ,  4.3681927 , ...,  2.2523484 ,\n",
       "             2.2523346 ,  2.2523208 ],\n",
       "           [ 0.85558206,  0.8553027 ,  0.8550237 , ...,  8.030891  ,\n",
       "             8.030855  ,  8.03082   ],\n",
       "           ...,\n",
       "           [18.067533  , 18.060213  , 18.052906  , ..., 11.21297   ,\n",
       "            11.213058  , 11.213148  ],\n",
       "           [20.821095  , 20.811958  , 20.802837  , ...,  7.5393324 ,\n",
       "             7.53935   ,  7.539367  ],\n",
       "           [ 7.2744026 ,  7.271167  ,  7.267936  , ...,  3.3903959 ,\n",
       "             3.3904004 ,  3.3904047 ]] 1e-17 erg / (Angstrom cm2 s)>, spectral_axis=<SpectralCoord [3802.76948244, 3803.64520329, 3804.5211258 , ...,\n",
       "                9217.22098659, 9219.34357452, 9221.46665124] Angstrom, \n",
       "\tradial_velocity=0.0 km / s, \n",
       "\tredshift=0.0, \n",
       "\tdoppler_rest=0.0 Angstrom, \n",
       "\tdoppler_convention=None, \n",
       "\tobserver=None, \n",
       "\ttarget=None>, uncertainty=InverseVariance([[0., 0., 0., ..., 0., 0., 0.],\n",
       "                 [0., 0., 0., ..., 0., 0., 0.],\n",
       "                 [0., 0., 0., ..., 0., 0., 0.],\n",
       "                 ...,\n",
       "                 [0., 0., 0., ..., 0., 0., 0.],\n",
       "                 [0., 0., 0., ..., 0., 0., 0.],\n",
       "                 [0., 0., 0., ..., 0., 0., 0.]]))>"
      ]
     },
     "execution_count": 10,
     "metadata": {},
     "output_type": "execute_result"
    }
   ],
   "source": [
    "sdss"
   ]
  },
  {
   "cell_type": "code",
   "execution_count": 11,
   "metadata": {},
   "outputs": [
    {
     "data": {
      "text/html": [
       "<i>Table length=640</i>\n",
       "<table id=\"table4587111088\" class=\"table-striped table-bordered table-condensed\">\n",
       "<thead><tr><th>PLATE</th><th>TILE</th><th>MJD</th><th>FIBERID</th><th>OBJID [5]</th><th>OBJTYPE</th><th>PLUG_RA</th><th>PLUG_DEC</th><th>CLASS</th><th>SUBCLASS</th><th>Z</th><th>Z_ERR</th><th>RCHI2</th><th>DOF</th><th>RCHI2DIFF</th><th>TFILE</th><th>TCOLUMN [10]</th><th>NPOLY</th><th>THETA [10]</th><th>THETA_COVAR [10,10]</th><th>VDISP</th><th>VDISP_ERR</th><th>VDISPZ</th><th>VDISPZ_ERR</th><th>VDISPCHI2</th><th>VDISPNPIX</th><th>VDISPDOF</th><th>WAVEMIN</th><th>WAVEMAX</th><th>WCOVERAGE</th><th>ZWARNING</th><th>SN_MEDIAN</th><th>CHI68P</th><th>FRACNSIGMA [10]</th><th>FRACNSIGHI [10]</th><th>FRACNSIGLO [10]</th><th>SPECTROFLUX [5]</th><th>SPECTROFLUX_IVAR [5]</th><th>SPECTROSYNFLUX [5]</th><th>SPECTROSYNFLUX_IVAR [5]</th><th>SPECTROSKYFLUX [5]</th><th>ANYANDMASK</th><th>ANYORMASK</th><th>SPEC1_G</th><th>SPEC1_R</th><th>SPEC1_I</th><th>SPEC2_G</th><th>SPEC2_R</th><th>SPEC2_I</th><th>ELODIE_FILENAME</th><th>ELODIE_OBJECT</th><th>ELODIE_SPTYPE</th><th>ELODIE_BV</th><th>ELODIE_TEFF</th><th>ELODIE_LOGG</th><th>ELODIE_FEH</th><th>ELODIE_Z</th><th>ELODIE_Z_ERR</th><th>ELODIE_Z_MODELERR</th><th>ELODIE_RCHI2</th><th>ELODIE_DOF</th></tr></thead>\n",
       "<thead><tr><th>int32</th><th>int32</th><th>int32</th><th>int32</th><th>int32</th><th>bytes19</th><th>float64</th><th>float64</th><th>bytes6</th><th>bytes21</th><th>float32</th><th>float32</th><th>float32</th><th>int32</th><th>float32</th><th>bytes24</th><th>int32</th><th>int32</th><th>float32</th><th>float32</th><th>float32</th><th>float32</th><th>float32</th><th>float32</th><th>float32</th><th>float32</th><th>int32</th><th>float32</th><th>float32</th><th>float32</th><th>int32</th><th>float32</th><th>float32</th><th>float32</th><th>float32</th><th>float32</th><th>float32</th><th>float32</th><th>float32</th><th>float32</th><th>float32</th><th>int32</th><th>int32</th><th>float32</th><th>float32</th><th>float32</th><th>float32</th><th>float32</th><th>float32</th><th>bytes25</th><th>bytes21</th><th>bytes9</th><th>float32</th><th>float32</th><th>float32</th><th>float32</th><th>float32</th><th>float32</th><th>float32</th><th>float32</th><th>int32</th></tr></thead>\n",
       "<tr><td>2955</td><td>1929</td><td>54562</td><td>1</td><td>2327 .. 410</td><td>GALAXY</td><td>236.31232</td><td>0.85039527</td><td>GALAXY</td><td></td><td>0.21037471</td><td>4.4343204e-05</td><td>1.2863714</td><td>3719</td><td>0.37695348</td><td>spEigenGal-53724.fits</td><td>0 .. -1</td><td>3</td><td>0.0014049356 .. 0.0</td><td>1.7609564e-09 .. 0.0</td><td>170.17068</td><td>14.28543</td><td>0.0</td><td>0.0</td><td>2389.8547</td><td>2168.0</td><td>2117</td><td>3822.082</td><td>9191.788</td><td>0.3726</td><td>0</td><td>8.955571</td><td>1.1095116</td><td>0.37198067 .. 0.0</td><td>0.18518518 .. 0.0</td><td>0.18679549 .. 0.0</td><td>5.528316 .. 78.13351</td><td>1.5567644 .. 0.68778366</td><td>2.5305223 .. 77.650925</td><td>2.1609764 .. 0.8614444</td><td>5.73486 .. 86.28137</td><td>230752256</td><td>266272768</td><td>20.601</td><td>21.1441</td><td>20.8762</td><td>24.9549</td><td>26.7781</td><td>23.0632</td><td></td><td></td><td></td><td>0.0</td><td>0.0</td><td>0.0</td><td>0.0</td><td>0.0</td><td>0.0</td><td>0.0</td><td>0.0</td><td>0</td></tr>\n",
       "<tr><td>2955</td><td>1929</td><td>54562</td><td>2</td><td>2327 .. 351</td><td>GALAXY</td><td>236.70843</td><td>0.90606157</td><td>GALAXY</td><td>STARFORMING</td><td>0.045228824</td><td>9.098427e-06</td><td>1.4144219</td><td>3726</td><td>0.75410926</td><td>spEigenGal-53724.fits</td><td>0 .. -1</td><td>3</td><td>0.001198203 .. 0.0</td><td>3.053975e-09 .. 0.0</td><td>42.783955</td><td>29.819418</td><td>0.0</td><td>0.0</td><td>2590.0378</td><td>2168.0</td><td>2117</td><td>3822.082</td><td>9191.788</td><td>0.3733</td><td>0</td><td>6.4640083</td><td>1.1339878</td><td>0.38092688 .. 0.0</td><td>0.19126707 .. 0.0</td><td>0.18965979 .. 0.0</td><td>6.2608438 .. 34.75663</td><td>1.5567644 .. 0.68778366</td><td>4.4604278 .. 35.09296</td><td>2.1609764 .. 0.8614444</td><td>6.5782337 .. 83.10503</td><td>230752256</td><td>266272768</td><td>20.601</td><td>21.1441</td><td>20.8762</td><td>24.9549</td><td>26.7781</td><td>23.0632</td><td></td><td></td><td></td><td>0.0</td><td>0.0</td><td>0.0</td><td>0.0</td><td>0.0</td><td>0.0</td><td>0.0</td><td>0.0</td><td>0</td></tr>\n",
       "<tr><td>2955</td><td>1929</td><td>54562</td><td>3</td><td>2327 .. 544</td><td>GALAXY</td><td>236.58816</td><td>0.91476191</td><td>GALAXY</td><td></td><td>0.26219922</td><td>6.426468e-05</td><td>1.1840944</td><td>3735</td><td>0.16153336</td><td>spEigenGal-53724.fits</td><td>0 .. -1</td><td>3</td><td>0.000999022 .. 0.0</td><td>2.6019062e-09 .. 0.0</td><td>174.73615</td><td>19.371538</td><td>0.0</td><td>0.0</td><td>2368.895</td><td>2168.0</td><td>2117</td><td>3821.2021</td><td>9191.788</td><td>0.3742</td><td>0</td><td>5.264221</td><td>1.0683659</td><td>0.35088187 .. 0.0</td><td>0.17691074 .. 0.0</td><td>0.17397113 .. 0.0</td><td>1.6958325 .. 63.58714</td><td>1.5567644 .. 0.68778366</td><td>0.82249457 .. 63.130188</td><td>2.1609764 .. 0.8614444</td><td>5.863977 .. 89.36571</td><td>231800836</td><td>266272772</td><td>20.601</td><td>21.1441</td><td>20.8762</td><td>24.9549</td><td>26.7781</td><td>23.0632</td><td></td><td></td><td></td><td>0.0</td><td>0.0</td><td>0.0</td><td>0.0</td><td>0.0</td><td>0.0</td><td>0.0</td><td>0.0</td><td>0</td></tr>\n",
       "<tr><td>2955</td><td>1929</td><td>54562</td><td>4</td><td>2327 .. 192</td><td>GALAXY</td><td>236.08242</td><td>0.8743279</td><td>GALAXY</td><td></td><td>0.12016291</td><td>3.6281606e-05</td><td>1.1879362</td><td>3725</td><td>0.40690196</td><td>spEigenGal-53724.fits</td><td>0 .. -1</td><td>3</td><td>0.0016338797 .. 0.0</td><td>2.3526507e-09 .. 0.0</td><td>161.72289</td><td>11.979559</td><td>0.0</td><td>0.0</td><td>2127.9797</td><td>2168.0</td><td>2117</td><td>3821.2021</td><td>9189.672</td><td>0.3732</td><td>0</td><td>11.293284</td><td>1.0705984</td><td>0.35744908 .. 0.0</td><td>0.17524116 .. 0.0</td><td>0.18220793 .. 0.0</td><td>4.2502537 .. 93.75019</td><td>1.5567644 .. 0.68778366</td><td>4.5496674 .. 94.6758</td><td>2.1609764 .. 0.8614444</td><td>6.7003837 .. 85.79785</td><td>230752256</td><td>266272768</td><td>20.601</td><td>21.1441</td><td>20.8762</td><td>24.9549</td><td>26.7781</td><td>23.0632</td><td></td><td></td><td></td><td>0.0</td><td>0.0</td><td>0.0</td><td>0.0</td><td>0.0</td><td>0.0</td><td>0.0</td><td>0.0</td><td>0</td></tr>\n",
       "<tr><td>2955</td><td>1929</td><td>54562</td><td>5</td><td>1458 .. 179</td><td>GALAXY</td><td>236.15968</td><td>0.97761396</td><td>GALAXY</td><td>STARFORMING</td><td>0.085093014</td><td>9.0356e-06</td><td>1.4179437</td><td>3717</td><td>1.1750665</td><td>spEigenGal-53724.fits</td><td>0 .. -1</td><td>3</td><td>0.00072964723 .. 0.0</td><td>2.6174127e-09 .. 0.0</td><td>98.21468</td><td>16.914415</td><td>0.0</td><td>0.0</td><td>2553.4014</td><td>2168.0</td><td>2117</td><td>3821.2021</td><td>9189.672</td><td>0.3724</td><td>0</td><td>9.912004</td><td>1.1363326</td><td>0.37781954 .. 0.0</td><td>0.18931256 .. 0.0</td><td>0.18850698 .. 0.0</td><td>8.900323 .. 61.221573</td><td>1.5567644 .. 0.68778366</td><td>7.8341045 .. 62.532814</td><td>2.1609764 .. 0.8614444</td><td>7.1100903 .. 86.26363</td><td>230752256</td><td>266272768</td><td>20.601</td><td>21.1441</td><td>20.8762</td><td>24.9549</td><td>26.7781</td><td>23.0632</td><td></td><td></td><td></td><td>0.0</td><td>0.0</td><td>0.0</td><td>0.0</td><td>0.0</td><td>0.0</td><td>0.0</td><td>0.0</td><td>0</td></tr>\n",
       "<tr><td>2955</td><td>1929</td><td>54562</td><td>6</td><td>2327 .. 389</td><td>GALAXY</td><td>236.29654</td><td>0.81158471</td><td>GALAXY</td><td></td><td>0.20805018</td><td>5.3525437e-05</td><td>1.1956733</td><td>3725</td><td>0.32778108</td><td>spEigenGal-53724.fits</td><td>0 .. -1</td><td>3</td><td>0.00115002 .. 0.0</td><td>1.911212e-09 .. 0.0</td><td>276.6204</td><td>19.007925</td><td>0.0</td><td>0.0</td><td>2219.3613</td><td>2168.0</td><td>2117</td><td>3821.2021</td><td>9191.788</td><td>0.3732</td><td>0</td><td>9.87478</td><td>1.072516</td><td>0.3550375 .. 0.0</td><td>0.1744373 .. 0.0</td><td>0.18060021 .. 0.0</td><td>6.614837 .. 87.56709</td><td>1.5567644 .. 0.68778366</td><td>3.6549335 .. 88.83544</td><td>2.1609764 .. 0.8614444</td><td>6.1124253 .. 86.93099</td><td>230752256</td><td>265486336</td><td>20.601</td><td>21.1441</td><td>20.8762</td><td>24.9549</td><td>26.7781</td><td>23.0632</td><td></td><td></td><td></td><td>0.0</td><td>0.0</td><td>0.0</td><td>0.0</td><td>0.0</td><td>0.0</td><td>0.0</td><td>0.0</td><td>0</td></tr>\n",
       "<tr><td>2955</td><td>1929</td><td>54562</td><td>7</td><td>1458 .. 478</td><td>GALAXY</td><td>236.04651</td><td>0.9975166</td><td>GALAXY</td><td></td><td>0.07730724</td><td>1.8409182e-05</td><td>1.4944968</td><td>3730</td><td>0.31406415</td><td>spEigenGal-53724.fits</td><td>0 .. -1</td><td>3</td><td>0.000377871 .. 0.0</td><td>1.953268e-09 .. 0.0</td><td>96.082756</td><td>17.775583</td><td>0.0</td><td>0.0</td><td>2363.7822</td><td>2168.0</td><td>2117</td><td>3820.3223</td><td>9191.788</td><td>0.3737</td><td>0</td><td>6.0473275</td><td>1.1579362</td><td>0.3877442 .. 0.0</td><td>0.188654 .. 0.0</td><td>0.19909018 .. 0.0</td><td>2.5554082 .. 35.845505</td><td>1.5567644 .. 0.68778366</td><td>2.8446956 .. 37.624836</td><td>2.1609764 .. 0.8614444</td><td>5.961383 .. 89.60928</td><td>230752256</td><td>266272768</td><td>20.601</td><td>21.1441</td><td>20.8762</td><td>24.9549</td><td>26.7781</td><td>23.0632</td><td></td><td></td><td></td><td>0.0</td><td>0.0</td><td>0.0</td><td>0.0</td><td>0.0</td><td>0.0</td><td>0.0</td><td>0.0</td><td>0</td></tr>\n",
       "<tr><td>2955</td><td>1929</td><td>54562</td><td>8</td><td>2327 .. 549</td><td>GALAXY</td><td>236.31498</td><td>0.83142165</td><td>GALAXY</td><td></td><td>0.21097003</td><td>5.7919853e-05</td><td>1.2864707</td><td>3709</td><td>0.13921309</td><td>spEigenGal-53724.fits</td><td>0 .. -1</td><td>3</td><td>0.00041879783 .. 0.0</td><td>1.9197972e-09 .. 0.0</td><td>269.90536</td><td>43.378117</td><td>0.0</td><td>0.0</td><td>2426.3052</td><td>2168.0</td><td>2117</td><td>3820.3223</td><td>9191.788</td><td>0.3716</td><td>0</td><td>5.7853475</td><td>1.1186556</td><td>0.37082884 .. 0.0</td><td>0.18326157 .. 0.0</td><td>0.18756728 .. 0.0</td><td>5.0276766 .. 48.90364</td><td>1.5567644 .. 0.68778366</td><td>4.1517286 .. 50.850574</td><td>2.1609764 .. 0.8614444</td><td>7.2516026 .. 86.40062</td><td>230686720</td><td>266272768</td><td>20.601</td><td>21.1441</td><td>20.8762</td><td>24.9549</td><td>26.7781</td><td>23.0632</td><td></td><td></td><td></td><td>0.0</td><td>0.0</td><td>0.0</td><td>0.0</td><td>0.0</td><td>0.0</td><td>0.0</td><td>0.0</td><td>0</td></tr>\n",
       "<tr><td>2955</td><td>1929</td><td>54562</td><td>9</td><td>1458 .. 475</td><td>GALAXY</td><td>236.33504</td><td>0.95701661</td><td>GALAXY</td><td></td><td>0.21235804</td><td>6.281929e-05</td><td>1.3098541</td><td>3729</td><td>0.22908008</td><td>spEigenGal-53724.fits</td><td>0 .. -1</td><td>3</td><td>0.0007118314 .. 0.0</td><td>1.6312277e-09 .. 0.0</td><td>264.76404</td><td>23.328474</td><td>0.0</td><td>0.0</td><td>2423.4958</td><td>2168.0</td><td>2117</td><td>3820.3223</td><td>9191.788</td><td>0.3736</td><td>0</td><td>7.3103976</td><td>1.11938</td><td>0.37794432 .. 0.0</td><td>0.1846895 .. 0.0</td><td>0.19325481 .. 0.0</td><td>2.7221816 .. 69.62876</td><td>1.5567644 .. 0.68778366</td><td>2.6849225 .. 71.46478</td><td>2.1609764 .. 0.8614444</td><td>5.823395 .. 86.8806</td><td>230752256</td><td>266272768</td><td>20.601</td><td>21.1441</td><td>20.8762</td><td>24.9549</td><td>26.7781</td><td>23.0632</td><td></td><td></td><td></td><td>0.0</td><td>0.0</td><td>0.0</td><td>0.0</td><td>0.0</td><td>0.0</td><td>0.0</td><td>0.0</td><td>0</td></tr>\n",
       "<tr><td>2955</td><td>1929</td><td>54562</td><td>10</td><td>2327 .. 316</td><td>GALAXY</td><td>236.17657</td><td>0.91950364</td><td>STAR</td><td>K5</td><td>-2.3494376e-06</td><td>1.4350197e-05</td><td>1.2339025</td><td>3744</td><td>0.49699175</td><td>spEigenStar-54474.fits</td><td>15 .. -1</td><td>4</td><td>11.759796 .. 0.0</td><td>0.045031525 .. 0.0</td><td>0.0</td><td>0.0</td><td>0.0</td><td>0.0</td><td>0.0</td><td>0.0</td><td>0</td><td>3819.4426</td><td>9191.788</td><td>0.3749</td><td>0</td><td>14.822862</td><td>1.072078</td><td>0.35182714 .. 0.0</td><td>0.17844759 .. 0.0</td><td>0.17337957 .. 0.0</td><td>9.205432 .. 108.5991</td><td>1.5567644 .. 0.68778366</td><td>8.334834 .. 107.38574</td><td>2.1609764 .. 0.8614444</td><td>6.740015 .. 89.45028</td><td>230752256</td><td>265486336</td><td>20.601</td><td>21.1441</td><td>20.8762</td><td>24.9549</td><td>26.7781</td><td>23.0632</td><td>RAC/L/00778.fits</td><td>HD201091</td><td>K5V</td><td>1.069</td><td>4382.0</td><td>4.64</td><td>-0.28</td><td>-2.0099199e-06</td><td>1.5856378e-05</td><td>6.0699813e-06</td><td>1.2711629</td><td>2153</td></tr>\n",
       "<tr><td>...</td><td>...</td><td>...</td><td>...</td><td>...</td><td>...</td><td>...</td><td>...</td><td>...</td><td>...</td><td>...</td><td>...</td><td>...</td><td>...</td><td>...</td><td>...</td><td>...</td><td>...</td><td>...</td><td>...</td><td>...</td><td>...</td><td>...</td><td>...</td><td>...</td><td>...</td><td>...</td><td>...</td><td>...</td><td>...</td><td>...</td><td>...</td><td>...</td><td>...</td><td>...</td><td>...</td><td>...</td><td>...</td><td>...</td><td>...</td><td>...</td><td>...</td><td>...</td><td>...</td><td>...</td><td>...</td><td>...</td><td>...</td><td>...</td><td>...</td><td>...</td><td>...</td><td>...</td><td>...</td><td>...</td><td>...</td><td>...</td><td>...</td><td>...</td><td>...</td><td>...</td></tr>\n",
       "<tr><td>2955</td><td>1929</td><td>54562</td><td>631</td><td>1458 .. 345</td><td>GALAXY</td><td>236.51939</td><td>1.5535733</td><td>GALAXY</td><td>STARFORMING</td><td>0.06207893</td><td>1.1839039e-05</td><td>1.1250346</td><td>3727</td><td>0.81719005</td><td>spEigenGal-53724.fits</td><td>0 .. -1</td><td>3</td><td>0.0011459792 .. 0.0</td><td>2.9251896e-09 .. 0.0</td><td>79.56101</td><td>11.689893</td><td>0.0</td><td>0.0</td><td>2062.733</td><td>2168.0</td><td>2117</td><td>3822.9622</td><td>9202.377</td><td>0.3734</td><td>0</td><td>12.10245</td><td>1.0131053</td><td>0.3253883 .. 0.0</td><td>0.1697911 .. 0.0</td><td>0.15559721 .. 0.0</td><td>7.782548 .. 87.40924</td><td>1.5567644 .. 0.68778366</td><td>5.0220604 .. 87.81333</td><td>2.1609764 .. 0.8614444</td><td>7.6937475 .. 77.75216</td><td>25231360</td><td>266272768</td><td>20.601</td><td>21.1441</td><td>20.8762</td><td>24.9549</td><td>26.7781</td><td>23.0632</td><td></td><td></td><td></td><td>0.0</td><td>0.0</td><td>0.0</td><td>0.0</td><td>0.0</td><td>0.0</td><td>0.0</td><td>0.0</td><td>0</td></tr>\n",
       "<tr><td>2955</td><td>1929</td><td>54562</td><td>632</td><td>2327 .. 362</td><td>GALAXY</td><td>236.46434</td><td>1.6150042</td><td>GALAXY</td><td></td><td>0.06349225</td><td>1.8691559e-05</td><td>1.0027775</td><td>3721</td><td>1.4404434</td><td>spEigenGal-53724.fits</td><td>0 .. -1</td><td>3</td><td>0.0034835704 .. 0.0</td><td>3.116992e-09 .. 0.0</td><td>148.88521</td><td>7.6118016</td><td>0.0</td><td>0.0</td><td>1769.3634</td><td>2168.0</td><td>2117</td><td>3822.9622</td><td>9202.377</td><td>0.3728</td><td>0</td><td>21.166529</td><td>0.98006743</td><td>0.30659872 .. 0.0</td><td>0.16013949 .. 0.0</td><td>0.14645922 .. 0.0</td><td>10.931765 .. 176.25633</td><td>1.5567644 .. 0.68778366</td><td>7.6996393 .. 176.03207</td><td>2.1609764 .. 0.8614444</td><td>7.71345 .. 78.01601</td><td>25231360</td><td>266272768</td><td>20.601</td><td>21.1441</td><td>20.8762</td><td>24.9549</td><td>26.7781</td><td>23.0632</td><td></td><td></td><td></td><td>0.0</td><td>0.0</td><td>0.0</td><td>0.0</td><td>0.0</td><td>0.0</td><td>0.0</td><td>0.0</td><td>0</td></tr>\n",
       "<tr><td>2955</td><td>1929</td><td>54562</td><td>633</td><td>1458 .. 322</td><td>GALAXY</td><td>236.49588</td><td>1.4792544</td><td>GALAXY</td><td></td><td>0.2487528</td><td>5.505898e-05</td><td>1.3040708</td><td>3727</td><td>0.5086609</td><td>spEigenGal-53724.fits</td><td>0 .. -1</td><td>3</td><td>0.0013488674 .. 0.0</td><td>1.2372501e-09 .. 0.0</td><td>308.4833</td><td>18.862732</td><td>0.0</td><td>0.0</td><td>2378.1008</td><td>2168.0</td><td>2117</td><td>3823.8425</td><td>9202.377</td><td>0.3734</td><td>0</td><td>10.452438</td><td>1.1014903</td><td>0.36047134 .. 0.0</td><td>0.18532404 .. 0.0</td><td>0.1751473 .. 0.0</td><td>2.0433614 .. 79.72897</td><td>1.5567644 .. 0.68778366</td><td>2.0652118 .. 79.36652</td><td>2.1609764 .. 0.8614444</td><td>7.1919193 .. 77.963646</td><td>25165824</td><td>266272768</td><td>20.601</td><td>21.1441</td><td>20.8762</td><td>24.9549</td><td>26.7781</td><td>23.0632</td><td></td><td></td><td></td><td>0.0</td><td>0.0</td><td>0.0</td><td>0.0</td><td>0.0</td><td>0.0</td><td>0.0</td><td>0.0</td><td>0</td></tr>\n",
       "<tr><td>2955</td><td>1929</td><td>54562</td><td>634</td><td>1458 .. 555</td><td>QSO</td><td>236.56323</td><td>1.466917</td><td>STAR</td><td>K5</td><td>4.884025e-05</td><td>9.293913e-05</td><td>1.2874683</td><td>3737</td><td>0.0022269487</td><td>spEigenStar-54474.fits</td><td>15 .. -1</td><td>4</td><td>1.0104473 .. 0.0</td><td>0.012819006 .. 0.0</td><td>0.0</td><td>0.0</td><td>0.0</td><td>0.0</td><td>0.0</td><td>0.0</td><td>0</td><td>3823.8425</td><td>9202.377</td><td>0.3742</td><td>4</td><td>2.3827488</td><td>1.101872</td><td>0.369054 .. 0.0</td><td>0.18733297 .. 0.0</td><td>0.181721 .. 0.0</td><td>0.5784741 .. 9.8135</td><td>1.5567644 .. 0.68778366</td><td>0.14848402 .. 9.702277</td><td>2.1609764 .. 0.8614444</td><td>3.765379 .. 74.563705</td><td>25165824</td><td>265486336</td><td>20.601</td><td>21.1441</td><td>20.8762</td><td>24.9549</td><td>26.7781</td><td>23.0632</td><td>RAC/L/00512.fits</td><td>HD160346</td><td>K3V</td><td>0.95</td><td>4775.0</td><td>4.409</td><td>-0.12</td><td>0.00027572917</td><td>0.00013203247</td><td>8.0020356e-05</td><td>1.2728286</td><td>2151</td></tr>\n",
       "<tr><td>2955</td><td>1929</td><td>54562</td><td>635</td><td>1458 .. 274</td><td>GALAXY</td><td>236.54203</td><td>1.8082169</td><td>GALAXY</td><td>STARFORMING</td><td>0.054020204</td><td>9.5019395e-06</td><td>1.3295095</td><td>3729</td><td>1.1284852</td><td>spEigenGal-53724.fits</td><td>0 .. -1</td><td>3</td><td>0.0010960057 .. 0.0</td><td>2.3648248e-09 .. 0.0</td><td>14.917809</td><td>21.623596</td><td>0.0</td><td>0.0</td><td>2244.3843</td><td>2168.0</td><td>2117</td><td>3823.8425</td><td>9202.377</td><td>0.3736</td><td>0</td><td>11.300756</td><td>1.0920565</td><td>0.3616167 .. 0.0</td><td>0.18683083 .. 0.0</td><td>0.17478587 .. 0.0</td><td>7.9415627 .. 69.004234</td><td>1.5567644 .. 0.68778366</td><td>6.8759604 .. 68.90252</td><td>2.1609764 .. 0.8614444</td><td>7.706816 .. 76.45737</td><td>159383552</td><td>265486336</td><td>20.601</td><td>21.1441</td><td>20.8762</td><td>24.9549</td><td>26.7781</td><td>23.0632</td><td></td><td></td><td></td><td>0.0</td><td>0.0</td><td>0.0</td><td>0.0</td><td>0.0</td><td>0.0</td><td>0.0</td><td>0.0</td><td>0</td></tr>\n",
       "<tr><td>2955</td><td>1929</td><td>54562</td><td>636</td><td>2327 .. 248</td><td>GALAXY</td><td>236.58812</td><td>1.758779</td><td>GALAXY</td><td>STARFORMING</td><td>0.043038443</td><td>7.34501e-06</td><td>1.2726021</td><td>3729</td><td>2.0444825</td><td>spEigenGal-53724.fits</td><td>0 .. -1</td><td>3</td><td>0.0015303745 .. 0.0</td><td>2.679371e-09 .. 0.0</td><td>77.17517</td><td>20.934269</td><td>0.0</td><td>0.0</td><td>2178.5012</td><td>2168.0</td><td>2117</td><td>3823.8425</td><td>9202.377</td><td>0.3736</td><td>0</td><td>11.048808</td><td>1.0540928</td><td>0.3474304 .. 0.0</td><td>0.17558886 .. 0.0</td><td>0.17184155 .. 0.0</td><td>8.538912 .. 60.708637</td><td>1.5567644 .. 0.68778366</td><td>7.9938345 .. 60.569107</td><td>2.1609764 .. 0.8614444</td><td>7.43571 .. 76.3527</td><td>25165824</td><td>266272768</td><td>20.601</td><td>21.1441</td><td>20.8762</td><td>24.9549</td><td>26.7781</td><td>23.0632</td><td></td><td></td><td></td><td>0.0</td><td>0.0</td><td>0.0</td><td>0.0</td><td>0.0</td><td>0.0</td><td>0.0</td><td>0.0</td><td>0</td></tr>\n",
       "<tr><td>2955</td><td>1929</td><td>54562</td><td>637</td><td>1458 .. 519</td><td>GALAXY</td><td>236.58288</td><td>1.9591851</td><td>GALAXY</td><td>STARFORMING</td><td>0.16086158</td><td>1.6841786e-05</td><td>1.2807055</td><td>3726</td><td>0.38333488</td><td>spEigenGal-53724.fits</td><td>0 .. -1</td><td>3</td><td>0.00065438467 .. 0.0</td><td>1.1588704e-09 .. 0.0</td><td>98.90851</td><td>25.058186</td><td>0.0</td><td>0.0</td><td>2478.221</td><td>2168.0</td><td>2117</td><td>3824.7231</td><td>9202.377</td><td>0.3733</td><td>0</td><td>6.223402</td><td>1.091772</td><td>0.36512187 .. 0.0</td><td>0.18430217 .. 0.0</td><td>0.18081972 .. 0.0</td><td>3.1493204 .. 33.658035</td><td>1.5567644 .. 0.68778366</td><td>3.3087873 .. 33.483475</td><td>2.1609764 .. 0.8614444</td><td>7.632974 .. 76.682144</td><td>25165824</td><td>266272768</td><td>20.601</td><td>21.1441</td><td>20.8762</td><td>24.9549</td><td>26.7781</td><td>23.0632</td><td></td><td></td><td></td><td>0.0</td><td>0.0</td><td>0.0</td><td>0.0</td><td>0.0</td><td>0.0</td><td>0.0</td><td>0.0</td><td>0</td></tr>\n",
       "<tr><td>2955</td><td>1929</td><td>54562</td><td>638</td><td>1458 .. 38</td><td>QSO</td><td>236.63386</td><td>1.8243979</td><td>QSO</td><td>STARBURST BROADLINE</td><td>0.13924561</td><td>4.903986e-05</td><td>2.6797435</td><td>3727</td><td>3.2612417</td><td>spEigenQSO-53724.fits</td><td>0 .. -1</td><td>3</td><td>0.0025190825 .. 0.0</td><td>1.58677e-09 .. 0.0</td><td>0.0</td><td>0.0</td><td>0.0</td><td>0.0</td><td>0.0</td><td>0.0</td><td>0</td><td>3824.7231</td><td>9202.377</td><td>0.3734</td><td>0</td><td>15.626972</td><td>1.2127551</td><td>0.4078736 .. 0.0021424745</td><td>0.20835565 .. 0.0021424745</td><td>0.19951795 .. 0.0</td><td>27.941761 .. 82.22924</td><td>1.5567644 .. 0.68778366</td><td>30.559494 .. 81.07395</td><td>2.1609764 .. 0.8614444</td><td>7.5682096 .. 80.96584</td><td>25231360</td><td>266272768</td><td>20.601</td><td>21.1441</td><td>20.8762</td><td>24.9549</td><td>26.7781</td><td>23.0632</td><td></td><td></td><td></td><td>0.0</td><td>0.0</td><td>0.0</td><td>0.0</td><td>0.0</td><td>0.0</td><td>0.0</td><td>0.0</td><td>0</td></tr>\n",
       "<tr><td>2955</td><td>1929</td><td>54562</td><td>639</td><td>1458 .. 66</td><td>QSO</td><td>236.65149</td><td>1.4606707</td><td>STAR</td><td>A0</td><td>4.9980044e-05</td><td>2.6117563e-05</td><td>1.3083893</td><td>3614</td><td>0.6022028</td><td>spEigenStar-54474.fits</td><td>0 .. -1</td><td>4</td><td>11.727751 .. 0.0</td><td>0.05114806 .. 0.0</td><td>0.0</td><td>0.0</td><td>0.0</td><td>0.0</td><td>0.0</td><td>0.0</td><td>0</td><td>3824.7231</td><td>9202.377</td><td>0.3619</td><td>0</td><td>18.134932</td><td>1.0807678</td><td>0.35755733 .. 0.0</td><td>0.18623929 .. 0.0</td><td>0.17131804 .. 0.0</td><td>32.435097 .. 74.85558</td><td>1.5567644 .. 0.68778366</td><td>32.54989 .. 74.73926</td><td>2.1609764 .. 0.8614444</td><td>7.6653705 .. 67.66584</td><td>26411024</td><td>266272784</td><td>20.601</td><td>21.1441</td><td>20.8762</td><td>24.9549</td><td>26.7781</td><td>23.0632</td><td>RAC/L/00478.fits</td><td>HD139798</td><td>F2V</td><td>0.317</td><td>6821.0</td><td>4.167</td><td>-0.21</td><td>0.000109489156</td><td>2.060252e-05</td><td>4.509708e-06</td><td>1.0281566</td><td>2106</td></tr>\n",
       "<tr><td>2955</td><td>1929</td><td>54562</td><td>640</td><td>1458 .. 568</td><td>GALAXY</td><td>236.80926</td><td>1.5231292</td><td>GALAXY</td><td>STARFORMING</td><td>0.03286333</td><td>1.5535434e-05</td><td>1.3478675</td><td>3612</td><td>0.23223555</td><td>spEigenGal-53724.fits</td><td>0 .. -1</td><td>3</td><td>0.00078203675 .. 0.0</td><td>1.9036765e-09 .. 0.0</td><td>84.538124</td><td>54.79902</td><td>0.0</td><td>0.0</td><td>2337.8013</td><td>2168.0</td><td>2117</td><td>3824.7231</td><td>9202.377</td><td>0.3619</td><td>0</td><td>6.1902156</td><td>1.1188536</td><td>0.3713733 .. 0.0</td><td>0.20005526 .. 0.0</td><td>0.17131804 .. 0.0</td><td>6.993475 .. 31.005463</td><td>1.5567644 .. 0.68778366</td><td>4.726532 .. 30.928658</td><td>2.1609764 .. 0.8614444</td><td>7.4606347 .. 79.08645</td><td>27197456</td><td>266272784</td><td>20.601</td><td>21.1441</td><td>20.8762</td><td>24.9549</td><td>26.7781</td><td>23.0632</td><td></td><td></td><td></td><td>0.0</td><td>0.0</td><td>0.0</td><td>0.0</td><td>0.0</td><td>0.0</td><td>0.0</td><td>0.0</td><td>0</td></tr>\n",
       "</table>"
      ],
      "text/plain": [
       "<Table length=640>\n",
       "PLATE  TILE  MJD  FIBERID ... ELODIE_Z_MODELERR ELODIE_RCHI2 ELODIE_DOF\n",
       "int32 int32 int32  int32  ...      float32        float32      int32   \n",
       "----- ----- ----- ------- ... ----------------- ------------ ----------\n",
       " 2955  1929 54562       1 ...               0.0          0.0          0\n",
       " 2955  1929 54562       2 ...               0.0          0.0          0\n",
       " 2955  1929 54562       3 ...               0.0          0.0          0\n",
       " 2955  1929 54562       4 ...               0.0          0.0          0\n",
       " 2955  1929 54562       5 ...               0.0          0.0          0\n",
       " 2955  1929 54562       6 ...               0.0          0.0          0\n",
       " 2955  1929 54562       7 ...               0.0          0.0          0\n",
       " 2955  1929 54562       8 ...               0.0          0.0          0\n",
       " 2955  1929 54562       9 ...               0.0          0.0          0\n",
       " 2955  1929 54562      10 ...     6.0699813e-06    1.2711629       2153\n",
       "  ...   ...   ...     ... ...               ...          ...        ...\n",
       " 2955  1929 54562     631 ...               0.0          0.0          0\n",
       " 2955  1929 54562     632 ...               0.0          0.0          0\n",
       " 2955  1929 54562     633 ...               0.0          0.0          0\n",
       " 2955  1929 54562     634 ...     8.0020356e-05    1.2728286       2151\n",
       " 2955  1929 54562     635 ...               0.0          0.0          0\n",
       " 2955  1929 54562     636 ...               0.0          0.0          0\n",
       " 2955  1929 54562     637 ...               0.0          0.0          0\n",
       " 2955  1929 54562     638 ...               0.0          0.0          0\n",
       " 2955  1929 54562     639 ...      4.509708e-06    1.0281566       2106\n",
       " 2955  1929 54562     640 ...               0.0          0.0          0"
      ]
     },
     "execution_count": 11,
     "metadata": {},
     "output_type": "execute_result"
    }
   ],
   "source": [
    "sdss_z"
   ]
  },
  {
   "cell_type": "code",
   "execution_count": 12,
   "metadata": {},
   "outputs": [
    {
     "name": "stderr",
     "output_type": "stream",
     "text": [
      "WARNING: FITSFixedWarning: PLATEID = 9599 / The currently loaded plate \n",
      "a string value was expected. [astropy.wcs.wcs]\n",
      "WARNING:astropy:FITSFixedWarning: PLATEID = 9599 / The currently loaded plate \n",
      "a string value was expected.\n"
     ]
    }
   ],
   "source": [
    "eboss = read_spPlate(eboss_spectra)\n",
    "eboss_z = Table.read(eboss_redshifts, 1)"
   ]
  },
  {
   "cell_type": "code",
   "execution_count": 13,
   "metadata": {},
   "outputs": [
    {
     "data": {
      "text/plain": [
       "<Spectrum1D(flux=<Quantity [[  2.1177    ,   2.116765  ,   2.1158316 , ...,  -1.4393026 ,\n",
       "             -1.4393069 ,  -1.4393113 ],\n",
       "           [  8.084128  ,   8.08055   ,   8.076977  , ...,  -1.6968985 ,\n",
       "             -1.6969033 ,  -1.6969082 ],\n",
       "           [ 37.020176  ,  37.00411   ,  36.98806   , ...,   3.8933334 ,\n",
       "              3.8933485 ,   3.893364  ],\n",
       "           ...,\n",
       "           [ -5.6615777 ,  -5.659113  ,  -4.6482496 , ...,  -0.17259687,\n",
       "             -0.17259583,  -0.17259477],\n",
       "           [ -4.649216  ,  -4.6471095 ,  -0.9829586 , ...,  -9.405368  ,\n",
       "             -5.7500234 ,  -5.749976  ],\n",
       "           [-32.441444  , -32.427807  , -19.826235  , ...,   7.553325  ,\n",
       "              5.2352567 ,   5.2352343 ]] 1e-17 erg / (Angstrom cm2 s)>, spectral_axis=<SpectralCoord [ 3586.7408577 ,  3587.56683039,  3588.39299329, ...,\n",
       "                10351.42166679, 10353.80544415, 10356.18977045] Angstrom, \n",
       "\tradial_velocity=0.0 km / s, \n",
       "\tredshift=0.0, \n",
       "\tdoppler_rest=0.0 Angstrom, \n",
       "\tdoppler_convention=None, \n",
       "\tobserver=None, \n",
       "\ttarget=None>, uncertainty=InverseVariance([[0.        , 0.        , 0.        , ..., 0.        ,\n",
       "                  0.        , 0.        ],\n",
       "                 [0.        , 0.        , 0.        , ..., 0.        ,\n",
       "                  0.        , 0.        ],\n",
       "                 [0.        , 0.        , 0.        , ..., 0.        ,\n",
       "                  0.        , 0.        ],\n",
       "                 ...,\n",
       "                 [0.        , 0.01397748, 0.        , ..., 0.        ,\n",
       "                  0.        , 0.        ],\n",
       "                 [0.        , 0.01248347, 0.        , ..., 0.        ,\n",
       "                  0.02180478, 0.        ],\n",
       "                 [0.        , 0.00988327, 0.        , ..., 0.        ,\n",
       "                  0.02158768, 0.        ]]))>"
      ]
     },
     "execution_count": 13,
     "metadata": {},
     "output_type": "execute_result"
    }
   ],
   "source": [
    "eboss"
   ]
  },
  {
   "cell_type": "code",
   "execution_count": 14,
   "metadata": {},
   "outputs": [
    {
     "data": {
      "text/html": [
       "<i>Table length=1000</i>\n",
       "<table id=\"table6230022352\" class=\"table-striped table-bordered table-condensed\">\n",
       "<thead><tr><th>PLATE</th><th>TILE</th><th>MJD</th><th>FIBERID</th><th>RUN2D</th><th>RUN1D</th><th>OBJID [5]</th><th>OBJTYPE</th><th>PLUG_RA</th><th>PLUG_DEC</th><th>CLASS</th><th>SUBCLASS</th><th>Z</th><th>Z_ERR</th><th>RCHI2</th><th>DOF</th><th>RCHI2DIFF</th><th>TFILE</th><th>TCOLUMN [10]</th><th>NPOLY</th><th>THETA [10]</th><th>THETA_COVAR [10,10]</th><th>VDISP</th><th>VDISP_ERR</th><th>VDISPZ</th><th>VDISPZ_ERR</th><th>VDISPCHI2</th><th>VDISPNPIX</th><th>VDISPDOF</th><th>WAVEMIN</th><th>WAVEMAX</th><th>WCOVERAGE</th><th>ZWARNING</th><th>SN_MEDIAN [5]</th><th>SN_MEDIAN_ALL</th><th>CHI68P</th><th>FRACNSIGMA [10]</th><th>FRACNSIGHI [10]</th><th>FRACNSIGLO [10]</th><th>SPECTROFLUX [5]</th><th>SPECTROFLUX_IVAR [5]</th><th>SPECTROSYNFLUX [5]</th><th>SPECTROSYNFLUX_IVAR [5]</th><th>SPECTROSKYFLUX [5]</th><th>ANYANDMASK</th><th>ANYORMASK</th><th>SPEC1_G</th><th>SPEC1_R</th><th>SPEC1_I</th><th>SPEC2_G</th><th>SPEC2_R</th><th>SPEC2_I</th><th>ELODIE_FILENAME</th><th>ELODIE_OBJECT</th><th>ELODIE_SPTYPE</th><th>ELODIE_BV</th><th>ELODIE_TEFF</th><th>ELODIE_LOGG</th><th>ELODIE_FEH</th><th>ELODIE_Z</th><th>ELODIE_Z_ERR</th><th>ELODIE_Z_MODELERR</th><th>ELODIE_RCHI2</th><th>ELODIE_DOF</th><th>Z_NOQSO</th><th>Z_ERR_NOQSO</th><th>ZNUM_NOQSO</th><th>ZWARNING_NOQSO</th><th>CLASS_NOQSO</th><th>SUBCLASS_NOQSO</th><th>RCHI2DIFF_NOQSO</th><th>VDISP_LNL [35]</th><th>SPECOBJID</th></tr></thead>\n",
       "<thead><tr><th>int32</th><th>int32</th><th>int32</th><th>int32</th><th>bytes7</th><th>bytes7</th><th>int32</th><th>bytes16</th><th>float64</th><th>float64</th><th>bytes6</th><th>bytes19</th><th>float32</th><th>float32</th><th>float32</th><th>int32</th><th>float32</th><th>bytes24</th><th>int32</th><th>int32</th><th>float32</th><th>float32</th><th>float32</th><th>float32</th><th>float32</th><th>float32</th><th>float32</th><th>float32</th><th>int32</th><th>float32</th><th>float32</th><th>float32</th><th>int32</th><th>float32</th><th>float32</th><th>float32</th><th>float32</th><th>float32</th><th>float32</th><th>float32</th><th>float32</th><th>float32</th><th>float32</th><th>float32</th><th>int32</th><th>int32</th><th>float32</th><th>float32</th><th>float32</th><th>float32</th><th>float32</th><th>float32</th><th>bytes16</th><th>bytes8</th><th>bytes12</th><th>float32</th><th>float32</th><th>float32</th><th>float32</th><th>float32</th><th>float32</th><th>float32</th><th>float32</th><th>int32</th><th>float32</th><th>float32</th><th>int32</th><th>int32</th><th>bytes6</th><th>bytes16</th><th>float32</th><th>float32</th><th>uint64</th></tr></thead>\n",
       "<tr><td>9599</td><td>17241</td><td>58131</td><td>1</td><td>v5_13_0</td><td>v5_13_0</td><td>0 .. 0</td><td>GALAXY</td><td>134.30633999999998</td><td>23.560574</td><td>GALAXY</td><td></td><td>0.88640094</td><td>7.4862786e-05</td><td>1.0845052</td><td>4415</td><td>0.06782746</td><td>spEigenGal-56436.fits</td><td>0 .. -1</td><td>3</td><td>-0.0017581133 .. 0.0</td><td>2.1188825e-06 .. 0.0</td><td>435.1586</td><td>175.88791</td><td>0.0</td><td>0.0</td><td>1429.6091</td><td>1242.0</td><td>1017</td><td>3601.6375</td><td>10332.371</td><td>0.4422</td><td>0</td><td>0.2606063 .. 1.3497385</td><td>0.93927145</td><td>0.99712366</td><td>0.3186341 .. 0.0</td><td>0.16350068 .. 0.0</td><td>0.15513343 .. 0.0</td><td>3.7662063 .. 5.9771852</td><td>2.2663114 .. 0.08043097</td><td>0.7791927 .. 5.6669927</td><td>6.7186484 .. 1.8029664</td><td>9.757312 .. 172.13158</td><td>96731136</td><td>265224192</td><td>5.49435</td><td>19.6345</td><td>15.2609</td><td>6.32216</td><td>15.6758</td><td>16.1718</td><td></td><td></td><td></td><td>0.0</td><td>0.0</td><td>0.0</td><td>0.0</td><td>0.0</td><td>0.0</td><td>0.0</td><td>0.0</td><td>0</td><td>0.88640094</td><td>7.4862786e-05</td><td>1</td><td>0</td><td>GALAXY</td><td></td><td>0.08233416</td><td>-734.5371 .. -732.77313</td><td>10807513617077129216</td></tr>\n",
       "<tr><td>9599</td><td>17241</td><td>58131</td><td>2</td><td>v5_13_0</td><td>v5_13_0</td><td>0 .. 0</td><td>GALAXY</td><td>134.37579</td><td>23.661467</td><td>GALAXY</td><td></td><td>1.3339226</td><td>0.00026624298</td><td>1.070623</td><td>4410</td><td>0.0049744844</td><td>spEigenGal-56436.fits</td><td>0 .. -1</td><td>3</td><td>0.0064811194 .. 0.0</td><td>2.4558062e-06 .. 0.0</td><td>640.3693</td><td>14.852106</td><td>0.0</td><td>0.0</td><td>336.13528</td><td>317.0</td><td>189</td><td>3601.6375</td><td>10332.371</td><td>0.4417</td><td>4</td><td>0.20378432 .. 0.4679302</td><td>0.3826797</td><td>1.004011</td><td>0.32171157 .. 0.0</td><td>0.16708173 .. 0.0</td><td>0.15462984 .. 0.0</td><td>-0.067608245 .. 2.0342577</td><td>2.2663114 .. 0.08043097</td><td>0.2092362 .. 2.2073357</td><td>6.7186484 .. 1.8029664</td><td>9.159222 .. 172.65573</td><td>130023424</td><td>265224192</td><td>5.49435</td><td>19.6345</td><td>15.2609</td><td>6.32216</td><td>15.6758</td><td>16.1718</td><td></td><td></td><td></td><td>0.0</td><td>0.0</td><td>0.0</td><td>0.0</td><td>0.0</td><td>0.0</td><td>0.0</td><td>0.0</td><td>0</td><td>1.3339226</td><td>0.00026624298</td><td>1</td><td>4</td><td>GALAXY</td><td></td><td>0.0049744844</td><td>-186.14551 .. -186.13846</td><td>10807513891955036160</td></tr>\n",
       "<tr><td>9599</td><td>17241</td><td>58131</td><td>3</td><td>v5_13_0</td><td>v5_13_0</td><td>4576 .. 23</td><td>NA</td><td>134.32067</td><td>23.688328</td><td>QSO</td><td>BROADLINE</td><td>1.763546</td><td>0.0003326265</td><td>1.251095</td><td>4426</td><td>1.5217528</td><td>spEigenQSO-55732.fits</td><td>0 .. -1</td><td>3</td><td>0.0053143967 .. 0.0</td><td>2.0002277e-08 .. 0.0</td><td>0.0</td><td>0.0</td><td>0.0</td><td>0.0</td><td>0.0</td><td>0.0</td><td>0</td><td>3601.6375</td><td>10332.371</td><td>0.4433</td><td>0</td><td>7.3063717 .. 11.766265</td><td>16.69086</td><td>1.0579199</td><td>0.34829685 .. 0.0</td><td>0.18565306 .. 0.0</td><td>0.1626438 .. 0.0</td><td>50.915344 .. 53.722816</td><td>2.2663114 .. 0.08043097</td><td>45.645782 .. 54.516926</td><td>6.7186484 .. 1.8029664</td><td>10.214458 .. 170.73433</td><td>97058816</td><td>265224192</td><td>5.49435</td><td>19.6345</td><td>15.2609</td><td>6.32216</td><td>15.6758</td><td>16.1718</td><td></td><td></td><td></td><td>0.0</td><td>0.0</td><td>0.0</td><td>0.0</td><td>0.0</td><td>0.0</td><td>0.0</td><td>0.0</td><td>0</td><td>0.17964284</td><td>6.613678e-05</td><td>6</td><td>4</td><td>GALAXY</td><td></td><td>0.0026409626</td><td>0.0 .. 0.0</td><td>10807514166832943104</td></tr>\n",
       "<tr><td>9599</td><td>17241</td><td>58131</td><td>4</td><td>v5_13_0</td><td>v5_13_0</td><td>0 .. 0</td><td>SKY</td><td>134.35102</td><td>23.701891</td><td>QSO</td><td></td><td>1.1664659</td><td>2.9052196</td><td>0.8529913</td><td>4413</td><td>0.004733205</td><td>spEigenQSO-55732.fits</td><td>0 .. -1</td><td>3</td><td>-0.0004680047 .. 0.0</td><td>8.280256e-09 .. 0.0</td><td>0.0</td><td>0.0</td><td>0.0</td><td>0.0</td><td>0.0</td><td>0.0</td><td>0</td><td>3601.6375</td><td>10332.371</td><td>0.442</td><td>5</td><td>0.104121625 .. 0.38119227</td><td>0.2799364</td><td>0.8960617</td><td>0.27194571 .. 0.0</td><td>0.13959277 .. 0.0</td><td>0.13235295 .. 0.0</td><td>0.38857126 .. 2.3111312</td><td>2.2663114 .. 0.08043097</td><td>0.24660099 .. 1.8778524</td><td>6.7186484 .. 1.8029664</td><td>8.592404 .. 170.20645</td><td>96731136</td><td>265224192</td><td>5.49435</td><td>19.6345</td><td>15.2609</td><td>6.32216</td><td>15.6758</td><td>16.1718</td><td></td><td></td><td></td><td>0.0</td><td>0.0</td><td>0.0</td><td>0.0</td><td>0.0</td><td>0.0</td><td>0.0</td><td>0.0</td><td>0</td><td>1.6151705</td><td>-1.0</td><td>3</td><td>5</td><td>GALAXY</td><td></td><td>0.0020426512</td><td>0.0 .. 0.0</td><td>10807514441710850048</td></tr>\n",
       "<tr><td>9599</td><td>17241</td><td>58131</td><td>5</td><td>v5_13_0</td><td>v5_13_0</td><td>0 .. 0</td><td>GALAXY</td><td>134.41470000000004</td><td>23.815033</td><td>GALAXY</td><td></td><td>0.8387958</td><td>0.00030623667</td><td>1.0103277</td><td>4406</td><td>0.00026583672</td><td>spEigenGal-56436.fits</td><td>0 .. -1</td><td>3</td><td>0.0026910568 .. 0.0</td><td>1.5961846e-06 .. 0.0</td><td>0.0</td><td>0.0</td><td>0.0</td><td>0.0</td><td>0.0</td><td>0.0</td><td>0</td><td>3601.6375</td><td>10332.371</td><td>0.4413</td><td>4</td><td>0.058007006 .. 0.91021407</td><td>0.55473447</td><td>0.97262245</td><td>0.30682075 .. 0.0</td><td>0.15771584 .. 0.0</td><td>0.14910492 .. 0.0</td><td>0.80874014 .. 3.897461</td><td>2.2663114 .. 0.08043097</td><td>0.4358406 .. 3.3762941</td><td>6.7186484 .. 1.8029664</td><td>9.197425 .. 163.15117</td><td>96468992</td><td>265224192</td><td>5.49435</td><td>19.6345</td><td>15.2609</td><td>6.32216</td><td>15.6758</td><td>16.1718</td><td></td><td></td><td></td><td>0.0</td><td>0.0</td><td>0.0</td><td>0.0</td><td>0.0</td><td>0.0</td><td>0.0</td><td>0.0</td><td>0</td><td>0.8387958</td><td>0.00030623667</td><td>1</td><td>4</td><td>GALAXY</td><td></td><td>0.00026583672</td><td>-659.5131 .. -655.09485</td><td>10807514716588756992</td></tr>\n",
       "<tr><td>9599</td><td>17241</td><td>58131</td><td>6</td><td>v5_13_0</td><td>v5_13_0</td><td>4569 .. 60</td><td>NA</td><td>134.25417</td><td>23.710984</td><td>QSO</td><td>BROADLINE</td><td>1.5253679</td><td>0.0006864293</td><td>1.0794156</td><td>4423</td><td>0.13706946</td><td>spEigenQSO-55732.fits</td><td>0 .. -1</td><td>3</td><td>0.0018212831 .. 0.0</td><td>1.3753448e-08 .. 0.0</td><td>0.0</td><td>0.0</td><td>0.0</td><td>0.0</td><td>0.0</td><td>0.0</td><td>0</td><td>3601.6375</td><td>10332.371</td><td>0.443</td><td>0</td><td>3.0753846 .. 6.48837</td><td>8.719976</td><td>0.9941776</td><td>0.3173815 .. 0.0</td><td>0.15981941 .. 0.0</td><td>0.15756208 .. 0.0</td><td>18.302649 .. 27.456453</td><td>2.2663114 .. 0.08043097</td><td>16.681513 .. 27.6596</td><td>6.7186484 .. 1.8029664</td><td>10.312156 .. 177.18193</td><td>96468992</td><td>265224192</td><td>5.49435</td><td>19.6345</td><td>15.2609</td><td>6.32216</td><td>15.6758</td><td>16.1718</td><td></td><td></td><td></td><td>0.0</td><td>0.0</td><td>0.0</td><td>0.0</td><td>0.0</td><td>0.0</td><td>0.0</td><td>0.0</td><td>0</td><td>0.0033890507</td><td>5.565828e-05</td><td>5</td><td>4</td><td>STAR</td><td>B2Iaevar (41117)</td><td>0.0066763163</td><td>0.0 .. 0.0</td><td>10807514991466663936</td></tr>\n",
       "<tr><td>9599</td><td>17241</td><td>58131</td><td>7</td><td>v5_13_0</td><td>v5_13_0</td><td>0 .. 0</td><td>GALAXY</td><td>134.23671000000002</td><td>23.840609</td><td>GALAXY</td><td></td><td>1.6082515</td><td>4.2364067e-05</td><td>1.0623573</td><td>4408</td><td>0.005206704</td><td>spEigenGal-56436.fits</td><td>0 .. -1</td><td>3</td><td>0.0044700587 .. 0.0</td><td>1.9462992e-05 .. 0.0</td><td>0.0</td><td>0.0</td><td>0.0</td><td>0.0</td><td>0.0</td><td>0.0</td><td>0</td><td>3601.6375</td><td>10332.371</td><td>0.4415</td><td>4</td><td>0.29941782 .. 0.7748786</td><td>0.5139109</td><td>0.98612237</td><td>0.31279728 .. 0.0</td><td>0.16285391 .. 0.0</td><td>0.14994338 .. 0.0</td><td>2.9094608 .. 3.5191925</td><td>2.2663114 .. 0.08043097</td><td>0.99584943 .. 3.8302968</td><td>6.7186484 .. 1.8029664</td><td>9.287327 .. 178.73062</td><td>96731136</td><td>265224192</td><td>5.49435</td><td>19.6345</td><td>15.2609</td><td>6.32216</td><td>15.6758</td><td>16.1718</td><td></td><td></td><td></td><td>0.0</td><td>0.0</td><td>0.0</td><td>0.0</td><td>0.0</td><td>0.0</td><td>0.0</td><td>0.0</td><td>0</td><td>1.6082515</td><td>4.2364067e-05</td><td>1</td><td>4</td><td>GALAXY</td><td></td><td>0.0056985617</td><td>-0.0 .. -0.0</td><td>10807515266344570880</td></tr>\n",
       "<tr><td>9599</td><td>17241</td><td>58131</td><td>8</td><td>v5_13_0</td><td>v5_13_0</td><td>0 .. 0</td><td>SKY</td><td>134.35032999999999</td><td>23.812278</td><td>QSO</td><td></td><td>6.719642</td><td>0.0030135913</td><td>0.76225525</td><td>4429</td><td>0.0011025071</td><td>spEigenQSO-55732.fits</td><td>0 .. -1</td><td>3</td><td>1.07820515e-05 .. 0.0</td><td>9.7125016e-11 .. 0.0</td><td>0.0</td><td>0.0</td><td>0.0</td><td>0.0</td><td>0.0</td><td>0.0</td><td>0</td><td>3601.6375</td><td>10332.371</td><td>0.4436</td><td>5</td><td>0.09572628 .. 0.22230272</td><td>0.12461426</td><td>0.9996572</td><td>0.31736526 .. 0.0</td><td>0.20658682 .. 0.0</td><td>0.11077844 .. 0.0</td><td>1.3807414 .. 1.0775812</td><td>2.2663114 .. 0.08043097</td><td>0.15553083 .. 1.2018198</td><td>6.7186484 .. 1.8029664</td><td>8.964505 .. 181.64337</td><td>96468992</td><td>265224192</td><td>5.49435</td><td>19.6345</td><td>15.2609</td><td>6.32216</td><td>15.6758</td><td>16.1718</td><td></td><td></td><td></td><td>0.0</td><td>0.0</td><td>0.0</td><td>0.0</td><td>0.0</td><td>0.0</td><td>0.0</td><td>0.0</td><td>0</td><td>1.6193669</td><td>0.00047587196</td><td>3</td><td>5</td><td>GALAXY</td><td></td><td>0.00016325712</td><td>0.0 .. 0.0</td><td>10807515541222477824</td></tr>\n",
       "<tr><td>9599</td><td>17241</td><td>58131</td><td>9</td><td>v5_13_0</td><td>v5_13_0</td><td>0 .. 0</td><td>GALAXY</td><td>134.26356999999996</td><td>23.962651</td><td>GALAXY</td><td></td><td>0.91453075</td><td>0.0001314354</td><td>1.0942959</td><td>4439</td><td>0.011636019</td><td>spEigenGal-56436.fits</td><td>0 .. -1</td><td>3</td><td>0.0030642317 .. 0.0</td><td>1.7890451e-06 .. 0.0</td><td>657.6087</td><td>235.90714</td><td>0.0</td><td>0.0</td><td>1323.9661</td><td>1178.0</td><td>970</td><td>3601.6375</td><td>10332.371</td><td>0.4446</td><td>0</td><td>0.088486135 .. 0.99933773</td><td>0.7341996</td><td>0.9914121</td><td>0.31578946 .. 0.0</td><td>0.16419253 .. 0.0</td><td>0.15159695 .. 0.0</td><td>2.1897478 .. 3.3783805</td><td>2.2663114 .. 0.08043097</td><td>0.50605804 .. 4.184457</td><td>6.7186484 .. 1.8029664</td><td>9.346204 .. 182.37488</td><td>97058816</td><td>265224192</td><td>5.49435</td><td>19.6345</td><td>15.2609</td><td>6.32216</td><td>15.6758</td><td>16.1718</td><td></td><td></td><td></td><td>0.0</td><td>0.0</td><td>0.0</td><td>0.0</td><td>0.0</td><td>0.0</td><td>0.0</td><td>0.0</td><td>0</td><td>0.91453075</td><td>0.0001314354</td><td>1</td><td>0</td><td>GALAXY</td><td></td><td>0.011636019</td><td>-669.49243 .. -669.4765</td><td>10807515816100384768</td></tr>\n",
       "<tr><td>9599</td><td>17241</td><td>58131</td><td>10</td><td>v5_13_0</td><td>v5_13_0</td><td>0 .. 0</td><td>GALAXY</td><td>134.23291</td><td>24.150201</td><td>GALAXY</td><td></td><td>0.91102755</td><td>0.00010790457</td><td>1.05638</td><td>4430</td><td>0.017501831</td><td>spEigenGal-56436.fits</td><td>0 .. -1</td><td>3</td><td>-0.00016797343 .. 0.0</td><td>1.8657165e-06 .. 0.0</td><td>261.1449</td><td>84.3567</td><td>0.0</td><td>0.0</td><td>1288.5028</td><td>1186.0</td><td>977</td><td>3601.6375</td><td>10332.371</td><td>0.4437</td><td>0</td><td>0.29700214 .. 1.2025727</td><td>0.66407555</td><td>0.98487526</td><td>0.31327474 .. 0.0</td><td>0.16384944 .. 0.0</td><td>0.14942528 .. 0.0</td><td>1.4356618 .. 4.8464885</td><td>2.2663114 .. 0.08043097</td><td>0.23032288 .. 4.9503345</td><td>6.7186484 .. 1.8029664</td><td>9.471259 .. 177.57735</td><td>96468992</td><td>265224192</td><td>5.49435</td><td>19.6345</td><td>15.2609</td><td>6.32216</td><td>15.6758</td><td>16.1718</td><td></td><td></td><td></td><td>0.0</td><td>0.0</td><td>0.0</td><td>0.0</td><td>0.0</td><td>0.0</td><td>0.0</td><td>0.0</td><td>0</td><td>0.91102755</td><td>0.00010790457</td><td>1</td><td>0</td><td>GALAXY</td><td></td><td>0.019319177</td><td>-661.5071 .. -660.8547</td><td>10807516090978291712</td></tr>\n",
       "<tr><td>...</td><td>...</td><td>...</td><td>...</td><td>...</td><td>...</td><td>...</td><td>...</td><td>...</td><td>...</td><td>...</td><td>...</td><td>...</td><td>...</td><td>...</td><td>...</td><td>...</td><td>...</td><td>...</td><td>...</td><td>...</td><td>...</td><td>...</td><td>...</td><td>...</td><td>...</td><td>...</td><td>...</td><td>...</td><td>...</td><td>...</td><td>...</td><td>...</td><td>...</td><td>...</td><td>...</td><td>...</td><td>...</td><td>...</td><td>...</td><td>...</td><td>...</td><td>...</td><td>...</td><td>...</td><td>...</td><td>...</td><td>...</td><td>...</td><td>...</td><td>...</td><td>...</td><td>...</td><td>...</td><td>...</td><td>...</td><td>...</td><td>...</td><td>...</td><td>...</td><td>...</td><td>...</td><td>...</td><td>...</td><td>...</td><td>...</td><td>...</td><td>...</td><td>...</td><td>...</td><td>...</td><td>...</td><td>...</td></tr>\n",
       "<tr><td>9599</td><td>17241</td><td>58131</td><td>991</td><td>v5_13_0</td><td>v5_13_0</td><td>0 .. 0</td><td>GALAXY</td><td>134.54309</td><td>24.496269</td><td>GALAXY</td><td></td><td>0.87241703</td><td>0.00022026755</td><td>1.0072069</td><td>4476</td><td>0.0028221607</td><td>spEigenGal-56436.fits</td><td>0 .. -1</td><td>3</td><td>0.0024205712 .. 0.0</td><td>2.1300755e-06 .. 0.0</td><td>102.00931</td><td>93.07676</td><td>0.0</td><td>0.0</td><td>1179.0114</td><td>1275.0</td><td>1101</td><td>3601.6375</td><td>10349.038</td><td>0.4483</td><td>4</td><td>0.007309768 .. 0.99255365</td><td>0.53654975</td><td>0.9719534</td><td>0.30738345 .. 0.0</td><td>0.15926835 .. 0.0</td><td>0.1481151 .. 0.0</td><td>0.6724963 .. 3.543283</td><td>2.2663114 .. 0.08043097</td><td>0.15979683 .. 3.889278</td><td>6.7186484 .. 1.8029664</td><td>8.339652 .. 160.73929</td><td>92274688</td><td>265224192</td><td>5.49435</td><td>19.6345</td><td>15.2609</td><td>6.32216</td><td>15.6758</td><td>16.1718</td><td></td><td></td><td></td><td>0.0</td><td>0.0</td><td>0.0</td><td>0.0</td><td>0.0</td><td>0.0</td><td>0.0</td><td>0.0</td><td>0</td><td>0.87241703</td><td>0.00022026755</td><td>1</td><td>4</td><td>GALAXY</td><td></td><td>0.0028221607</td><td>-597.5065 .. -596.3522</td><td>10807785746205003776</td></tr>\n",
       "<tr><td>9599</td><td>17241</td><td>58131</td><td>992</td><td>v5_13_0</td><td>v5_13_0</td><td>0 .. 0</td><td>GALAXY</td><td>134.48770000000002</td><td>24.481332</td><td>GALAXY</td><td></td><td>1.022435</td><td>0.00044565107</td><td>0.9821306</td><td>4461</td><td>0.00062942505</td><td>spEigenGal-56436.fits</td><td>0 .. -1</td><td>3</td><td>-0.0028624781 .. 0.0</td><td>1.8021267e-06 .. 0.0</td><td>850.0</td><td>-3.0</td><td>0.0</td><td>0.0</td><td>671.2925</td><td>940.0</td><td>758</td><td>3601.6375</td><td>10349.038</td><td>0.4468</td><td>4</td><td>0.200789 .. 0.7621933</td><td>0.53059566</td><td>0.949304</td><td>0.29677707 .. 0.0</td><td>0.1477171 .. 0.0</td><td>0.14905998 .. 0.0</td><td>0.121335156 .. 2.4869647</td><td>2.2663114 .. 0.08043097</td><td>0.22696753 .. 3.019445</td><td>6.7186484 .. 1.8029664</td><td>8.516357 .. 152.45468</td><td>92274688</td><td>265224192</td><td>5.49435</td><td>19.6345</td><td>15.2609</td><td>6.32216</td><td>15.6758</td><td>16.1718</td><td></td><td></td><td></td><td>0.0</td><td>0.0</td><td>0.0</td><td>0.0</td><td>0.0</td><td>0.0</td><td>0.0</td><td>0.0</td><td>0</td><td>1.022435</td><td>0.00044565107</td><td>1</td><td>4</td><td>GALAXY</td><td></td><td>0.00062942505</td><td>-345.36624 .. -341.79324</td><td>10807786021082910720</td></tr>\n",
       "<tr><td>9599</td><td>17241</td><td>58131</td><td>993</td><td>v5_13_0</td><td>v5_13_0</td><td>0 .. 0</td><td>GALAXY</td><td>134.31083999999998</td><td>24.705109</td><td>GALAXY</td><td></td><td>1.0831953</td><td>0.00024504127</td><td>1.0482972</td><td>4457</td><td>0.0038086176</td><td>spEigenGal-56436.fits</td><td>0 .. -1</td><td>3</td><td>0.0016208681 .. 0.0</td><td>1.8065524e-06 .. 0.0</td><td>351.83093</td><td>71.305046</td><td>0.0</td><td>0.0</td><td>880.91187</td><td>811.0</td><td>639</td><td>3601.6375</td><td>10349.038</td><td>0.4464</td><td>4</td><td>0.06841879 .. 0.71853715</td><td>0.49987832</td><td>0.98968333</td><td>0.3142921 .. 0.0</td><td>0.16106631 .. 0.0</td><td>0.15322581 .. 0.0</td><td>1.1446853 .. 3.3385205</td><td>2.2663114 .. 0.08043097</td><td>0.54734623 .. 2.964541</td><td>6.7186484 .. 1.8029664</td><td>8.683233 .. 153.35922</td><td>92274688</td><td>265224192</td><td>5.49435</td><td>19.6345</td><td>15.2609</td><td>6.32216</td><td>15.6758</td><td>16.1718</td><td></td><td></td><td></td><td>0.0</td><td>0.0</td><td>0.0</td><td>0.0</td><td>0.0</td><td>0.0</td><td>0.0</td><td>0.0</td><td>0</td><td>1.0831953</td><td>0.00024504127</td><td>1</td><td>4</td><td>GALAXY</td><td></td><td>0.005996585</td><td>-453.0863 .. -453.83023</td><td>10807786295960817664</td></tr>\n",
       "<tr><td>9599</td><td>17241</td><td>58131</td><td>994</td><td>v5_13_0</td><td>v5_13_0</td><td>0 .. 0</td><td>GALAXY</td><td>134.39601</td><td>24.365696</td><td>GALAXY</td><td></td><td>1.1269649</td><td>0.0002342868</td><td>1.0068241</td><td>4461</td><td>0.0039378405</td><td>spEigenGal-56436.fits</td><td>0 .. -1</td><td>3</td><td>0.0009012186 .. 0.0</td><td>1.5994005e-06 .. 0.0</td><td>253.30882</td><td>117.003586</td><td>0.0</td><td>0.0</td><td>531.31885</td><td>721.0</td><td>567</td><td>3601.6375</td><td>10349.038</td><td>0.4468</td><td>4</td><td>0.01923992 .. 0.63537246</td><td>0.46994978</td><td>0.9725141</td><td>0.30617726 .. 0.0</td><td>0.15711728 .. 0.0</td><td>0.14905998 .. 0.0</td><td>0.17910877 .. 1.8434224</td><td>2.2663114 .. 0.08043097</td><td>0.48064163 .. 2.6272016</td><td>6.7186484 .. 1.8029664</td><td>8.770575 .. 153.42683</td><td>92536832</td><td>265224192</td><td>5.49435</td><td>19.6345</td><td>15.2609</td><td>6.32216</td><td>15.6758</td><td>16.1718</td><td></td><td></td><td></td><td>0.0</td><td>0.0</td><td>0.0</td><td>0.0</td><td>0.0</td><td>0.0</td><td>0.0</td><td>0.0</td><td>0</td><td>1.1269649</td><td>0.0002342868</td><td>1</td><td>4</td><td>GALAXY</td><td></td><td>0.0039378405</td><td>-269.70822 .. -269.62155</td><td>10807786570838724608</td></tr>\n",
       "<tr><td>9599</td><td>17241</td><td>58131</td><td>995</td><td>v5_13_0</td><td>v5_13_0</td><td>0 .. 0</td><td>GALAXY</td><td>134.40567</td><td>24.419902</td><td>GALAXY</td><td></td><td>0.78811055</td><td>0.00017182413</td><td>0.9485369</td><td>4464</td><td>0.00783819</td><td>spEigenGal-56436.fits</td><td>0 .. -1</td><td>3</td><td>0.004299452 .. 0.0</td><td>1.8911641e-06 .. 0.0</td><td>850.0</td><td>-3.0</td><td>0.0</td><td>0.0</td><td>1169.7457</td><td>1474.0</td><td>1280</td><td>3601.6375</td><td>10349.038</td><td>0.4471</td><td>4</td><td>0.0030273257 .. 1.2609851</td><td>0.83325684</td><td>0.9581464</td><td>0.3012749 .. 0.0</td><td>0.15522255 .. 0.0</td><td>0.14605233 .. 0.0</td><td>1.121887 .. 4.157896</td><td>2.2663114 .. 0.08043097</td><td>0.33109823 .. 5.029517</td><td>6.7186484 .. 1.8029664</td><td>8.757643 .. 156.79668</td><td>92274688</td><td>265224192</td><td>5.49435</td><td>19.6345</td><td>15.2609</td><td>6.32216</td><td>15.6758</td><td>16.1718</td><td></td><td></td><td></td><td>0.0</td><td>0.0</td><td>0.0</td><td>0.0</td><td>0.0</td><td>0.0</td><td>0.0</td><td>0.0</td><td>0</td><td>0.78811055</td><td>0.00017182413</td><td>1</td><td>4</td><td>GALAXY</td><td></td><td>0.00783819</td><td>-594.59784 .. -592.0072</td><td>10807786845716631552</td></tr>\n",
       "<tr><td>9599</td><td>17241</td><td>58131</td><td>996</td><td>v5_13_0</td><td>v5_13_0</td><td>0 .. 0</td><td>GALAXY</td><td>134.41413</td><td>24.538829</td><td>QSO</td><td></td><td>0.08078821</td><td>0.00013158943</td><td>1.0174223</td><td>4441</td><td>0.00046622753</td><td>spEigenQSO-55732.fits</td><td>0 .. -1</td><td>3</td><td>-0.0003833814 .. 0.0</td><td>2.6033893e-08 .. 0.0</td><td>0.0</td><td>0.0</td><td>0.0</td><td>0.0</td><td>0.0</td><td>0.0</td><td>0</td><td>3601.6375</td><td>10349.038</td><td>0.4448</td><td>4</td><td>0.07682501 .. 1.1900033</td><td>0.7255501</td><td>0.97883755</td><td>0.31047663 .. 0.0</td><td>0.16321942 .. 0.0</td><td>0.1472572 .. 0.0</td><td>0.0028948428 .. 4.4448047</td><td>2.2663114 .. 0.08043097</td><td>-0.112322725 .. 4.845316</td><td>6.7186484 .. 1.8029664</td><td>8.09449 .. 147.09296</td><td>92274688</td><td>265224192</td><td>5.49435</td><td>19.6345</td><td>15.2609</td><td>6.32216</td><td>15.6758</td><td>16.1718</td><td></td><td></td><td></td><td>0.0</td><td>0.0</td><td>0.0</td><td>0.0</td><td>0.0</td><td>0.0</td><td>0.0</td><td>0.0</td><td>0</td><td>0.9024196</td><td>0.0001939828</td><td>2</td><td>4</td><td>GALAXY</td><td></td><td>0.00103724</td><td>-500.26108 .. -502.9751</td><td>10807787120594538496</td></tr>\n",
       "<tr><td>9599</td><td>17241</td><td>58131</td><td>997</td><td>v5_13_0</td><td>v5_13_0</td><td>0 .. 0</td><td>GALAXY</td><td>134.34164999999996</td><td>24.415449</td><td>GALAXY</td><td></td><td>0.2955995</td><td>5.4402415e-05</td><td>1.0008978</td><td>4460</td><td>0.019369364</td><td>spEigenGal-56436.fits</td><td>0 .. -1</td><td>3</td><td>-0.0052822656 .. 0.0</td><td>1.2775862e-06 .. 0.0</td><td>0.0</td><td>40.951668</td><td>0.0</td><td>0.0</td><td>1894.6222</td><td>2168.0</td><td>1959</td><td>3601.6375</td><td>10353.806</td><td>0.4467</td><td>0</td><td>0.11811591 .. 0.42569128</td><td>0.345238</td><td>0.96065766</td><td>0.3051265 .. 0.0</td><td>0.1537945 .. 0.0</td><td>0.15133199 .. 0.0</td><td>0.647059 .. 1.2288342</td><td>2.2663114 .. 0.08043097</td><td>0.23426007 .. 1.7432446</td><td>6.7186484 .. 1.8029664</td><td>8.395976 .. 153.56516</td><td>92274688</td><td>265224192</td><td>5.49435</td><td>19.6345</td><td>15.2609</td><td>6.32216</td><td>15.6758</td><td>16.1718</td><td></td><td></td><td></td><td>0.0</td><td>0.0</td><td>0.0</td><td>0.0</td><td>0.0</td><td>0.0</td><td>0.0</td><td>0.0</td><td>0</td><td>0.2955995</td><td>5.4402415e-05</td><td>1</td><td>0</td><td>GALAXY</td><td></td><td>0.021119475</td><td>-950.34 .. -950.9683</td><td>10807787395472445440</td></tr>\n",
       "<tr><td>9599</td><td>17241</td><td>58131</td><td>998</td><td>v5_13_0</td><td>v5_13_0</td><td>0 .. 0</td><td>GALAXY</td><td>134.38092</td><td>24.388232</td><td>GALAXY</td><td></td><td>1.7362376</td><td>1.8894887</td><td>1.0808057</td><td>4441</td><td>0.005829692</td><td>spEigenGal-56436.fits</td><td>0 .. -1</td><td>3</td><td>-0.020463336 .. 0.0</td><td>2.1053e-05 .. 0.0</td><td>0.0</td><td>0.0</td><td>0.0</td><td>0.0</td><td>0.0</td><td>0.0</td><td>0</td><td>3601.6375</td><td>10349.038</td><td>0.4448</td><td>4</td><td>0.07237604 .. 0.9209992</td><td>0.62324274</td><td>0.9808458</td><td>0.31317446 .. 0.0</td><td>0.15872303 .. 0.0</td><td>0.15445144 .. 0.0</td><td>0.43688616 .. 3.3208106</td><td>2.2663114 .. 0.08043097</td><td>0.020662412 .. 3.182593</td><td>6.7186484 .. 1.8029664</td><td>8.586127 .. 155.32796</td><td>92274688</td><td>265224192</td><td>5.49435</td><td>19.6345</td><td>15.2609</td><td>6.32216</td><td>15.6758</td><td>16.1718</td><td></td><td></td><td></td><td>0.0</td><td>0.0</td><td>0.0</td><td>0.0</td><td>0.0</td><td>0.0</td><td>0.0</td><td>0.0</td><td>0</td><td>1.7362376</td><td>1.8894887</td><td>1</td><td>4</td><td>GALAXY</td><td></td><td>0.005829692</td><td>-0.0 .. -0.0</td><td>10807787670350352384</td></tr>\n",
       "<tr><td>9599</td><td>17241</td><td>58131</td><td>999</td><td>v5_13_0</td><td>v5_13_0</td><td>0 .. 0</td><td>GALAXY</td><td>134.55718000000002</td><td>24.436213</td><td>GALAXY</td><td></td><td>0.7666662</td><td>0.00010115028</td><td>1.0861886</td><td>4449</td><td>0.019942045</td><td>spEigenGal-56436.fits</td><td>0 .. -1</td><td>3</td><td>0.0025404159 .. 0.0</td><td>2.734502e-06 .. 0.0</td><td>132.72964</td><td>61.83647</td><td>0.0</td><td>0.0</td><td>1558.4891</td><td>1527.0</td><td>1326</td><td>3601.6375</td><td>10353.806</td><td>0.4456</td><td>0</td><td>0.21554308 .. 0.7978873</td><td>0.67609715</td><td>0.9912105</td><td>0.3150808 .. 0.0</td><td>0.16404848 .. 0.0</td><td>0.15103231 .. 0.0</td><td>0.87533873 .. 3.8507435</td><td>2.2663114 .. 0.08043097</td><td>0.70019394 .. 3.7692099</td><td>6.7186484 .. 1.8029664</td><td>8.609321 .. 150.26436</td><td>92274688</td><td>265224192</td><td>5.49435</td><td>19.6345</td><td>15.2609</td><td>6.32216</td><td>15.6758</td><td>16.1718</td><td></td><td></td><td></td><td>0.0</td><td>0.0</td><td>0.0</td><td>0.0</td><td>0.0</td><td>0.0</td><td>0.0</td><td>0.0</td><td>0</td><td>0.7666662</td><td>0.00010115028</td><td>1</td><td>0</td><td>GALAXY</td><td></td><td>0.023429751</td><td>-778.7572 .. -782.013</td><td>10807787945228259328</td></tr>\n",
       "<tr><td>9599</td><td>17241</td><td>58131</td><td>1000</td><td>v5_13_0</td><td>v5_13_0</td><td>0 .. 0</td><td>GALAXY</td><td>134.25813</td><td>24.389628</td><td>STAR</td><td>G8V (101501)</td><td>-2.6037125e-05</td><td>5.9060832e-05</td><td>0.994466</td><td>4439</td><td>0.026202977</td><td>spEigenStar-55734.fits</td><td>77 .. -1</td><td>4</td><td>1.4193914 .. 0.0</td><td>0.012843501 .. 0.0</td><td>0.0</td><td>0.0</td><td>0.0</td><td>0.0</td><td>0.0</td><td>0.0</td><td>0</td><td>3601.6375</td><td>10353.806</td><td>0.4444</td><td>0</td><td>0.49127668 .. 2.7273288</td><td>3.4755094</td><td>0.9898049</td><td>0.3141314 .. 0.0</td><td>0.15526552 .. 0.0</td><td>0.15886588 .. 0.0</td><td>2.9543006 .. 9.450398</td><td>2.2663114 .. 0.08043097</td><td>3.0500803 .. 9.642181</td><td>6.7186484 .. 1.8029664</td><td>10.419024 .. 150.30775</td><td>92274688</td><td>265224192</td><td>5.49435</td><td>19.6345</td><td>15.2609</td><td>6.32216</td><td>15.6758</td><td>16.1718</td><td>RAC/L/00148.fits</td><td>HD034078</td><td>O9.5Vvar</td><td>0.18</td><td>6537.0</td><td>2.497</td><td>-2.09</td><td>0.0</td><td>0.0</td><td>0.0</td><td>0.0</td><td>0</td><td>-2.6037125e-05</td><td>5.9060832e-05</td><td>1</td><td>0</td><td>STAR</td><td>G8V (101501)</td><td>0.026202977</td><td>0.0 .. 0.0</td><td>10807788220106166272</td></tr>\n",
       "</table>"
      ],
      "text/plain": [
       "<Table length=1000>\n",
       "PLATE  TILE  MJD  ...      VDISP_LNL [35]           SPECOBJID      \n",
       "int32 int32 int32 ...         float32                 uint64       \n",
       "----- ----- ----- ... ------------------------ --------------------\n",
       " 9599 17241 58131 ...  -734.5371 .. -732.77313 10807513617077129216\n",
       " 9599 17241 58131 ... -186.14551 .. -186.13846 10807513891955036160\n",
       " 9599 17241 58131 ...               0.0 .. 0.0 10807514166832943104\n",
       " 9599 17241 58131 ...               0.0 .. 0.0 10807514441710850048\n",
       " 9599 17241 58131 ...  -659.5131 .. -655.09485 10807514716588756992\n",
       " 9599 17241 58131 ...               0.0 .. 0.0 10807514991466663936\n",
       " 9599 17241 58131 ...             -0.0 .. -0.0 10807515266344570880\n",
       " 9599 17241 58131 ...               0.0 .. 0.0 10807515541222477824\n",
       " 9599 17241 58131 ...  -669.49243 .. -669.4765 10807515816100384768\n",
       " 9599 17241 58131 ...   -661.5071 .. -660.8547 10807516090978291712\n",
       "  ...   ...   ... ...                      ...                  ...\n",
       " 9599 17241 58131 ...   -597.5065 .. -596.3522 10807785746205003776\n",
       " 9599 17241 58131 ... -345.36624 .. -341.79324 10807786021082910720\n",
       " 9599 17241 58131 ...  -453.0863 .. -453.83023 10807786295960817664\n",
       " 9599 17241 58131 ... -269.70822 .. -269.62155 10807786570838724608\n",
       " 9599 17241 58131 ...  -594.59784 .. -592.0072 10807786845716631552\n",
       " 9599 17241 58131 ...  -500.26108 .. -502.9751 10807787120594538496\n",
       " 9599 17241 58131 ...     -950.34 .. -950.9683 10807787395472445440\n",
       " 9599 17241 58131 ...             -0.0 .. -0.0 10807787670350352384\n",
       " 9599 17241 58131 ...    -778.7572 .. -782.013 10807787945228259328\n",
       " 9599 17241 58131 ...               0.0 .. 0.0 10807788220106166272"
      ]
     },
     "execution_count": 14,
     "metadata": {},
     "output_type": "execute_result"
    }
   ],
   "source": [
    "eboss_z"
   ]
  },
  {
   "cell_type": "code",
   "execution_count": null,
   "metadata": {},
   "outputs": [],
   "source": []
  }
 ],
 "metadata": {
  "kernelspec": {
   "display_name": "DESI prospect",
   "language": "python",
   "name": "desi-prospect"
  },
  "language_info": {
   "codemirror_mode": {
    "name": "ipython",
    "version": 3
   },
   "file_extension": ".py",
   "mimetype": "text/x-python",
   "name": "python",
   "nbconvert_exporter": "python",
   "pygments_lexer": "ipython3",
   "version": "3.6.10"
  }
 },
 "nbformat": 4,
 "nbformat_minor": 4
}
