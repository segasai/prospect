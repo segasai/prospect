{
 "cells": [
  {
   "cell_type": "markdown",
   "metadata": {},
   "source": [
    "# prospect + specutils\n",
    "\n",
    "Project: Convert DESI, SDSS & eBOSS spectra to specutils container objects, and modify prospect to accept those objects."
   ]
  },
  {
   "cell_type": "code",
   "execution_count": null,
   "metadata": {},
   "outputs": [],
   "source": [
    "import os\n",
    "from specutils import Spectrum1D, SpectrumCollection, SpectrumList"
   ]
  },
  {
   "cell_type": "markdown",
   "metadata": {},
   "source": [
    "## DESI spectra file\n",
    "\n",
    "DESI spectra are stored by \"channel\" (\"channel\", \"band\" and \"spectrograph arm\" are used interchangably).  There are 10 spectrographs, each with three arms, called 'b', 'r' & 'z'.  In a DESI spectra file, all arms are grouped together, with a common wavelength solution for each arm, but the solutions do not overlap or have the same shape.  Thus we can't use a Spectrum1D or SpectrumCollection object, but we can use a SpectrumList containing three Spectrum1D objects."
   ]
  },
  {
   "cell_type": "code",
   "execution_count": 1,
   "metadata": {},
   "outputs": [
    {
     "name": "stdout",
     "output_type": "stream",
     "text": [
      "/Users/weaver/Documents/Data/desi/datachallenge/reference_runs/19.12/spectro/redux/mini/spectra-64/53/5305/spectra-64-5305.fits\n",
      "/Users/weaver/Documents/Data/desi/datachallenge/reference_runs/19.12/spectro/redux/mini/spectra-64/53/5305/zbest-64-5305.fits\n"
     ]
    }
   ],
   "source": [
    "os.environ['DESI_SPECTRO_REDUX'] = os.path.join(os.environ['DESI_ROOT'], 'datachallenge', 'reference_runs', '19.12', 'spectro', 'redux')\n",
    "os.environ['SPECPROD'] = 'mini'\n",
    "nside = '64'\n",
    "pixnum = '5305'\n",
    "pixgroup = pixnum[0:2]\n",
    "desi_spectra = os.path.join(os.environ['DESI_SPECTRO_REDUX'], os.environ['SPECPROD'],\n",
    "                            f'spectra-{nside}', pixgroup, pixnum, f'spectra-{nside}-{pixnum}.fits')\n",
    "desi_redshifts = os.path.join(os.environ['DESI_SPECTRO_REDUX'], os.environ['SPECPROD'],\n",
    "                              f'spectra-{nside}', pixgroup, pixnum, f'zbest-{nside}-{pixnum}.fits')\n",
    "print(desi_spectra)\n",
    "print(desi_redshifts)"
   ]
  },
  {
   "cell_type": "markdown",
   "metadata": {},
   "source": [
    "## SDSS/eBOSS spPlate file\n",
    "\n",
    "SDSS spectra are stored per-plate in spPlate files.  These contain 640 spectra for the original SDSS spectrograph or 1000 spectra for the BOSS/eBOSS spectrograph.  All spPlate files have a common wavelength solution, so a spPlate file can be represented by a Spectrum1D object."
   ]
  },
  {
   "cell_type": "code",
   "execution_count": 2,
   "metadata": {},
   "outputs": [
    {
     "name": "stdout",
     "output_type": "stream",
     "text": [
      "/Users/weaver/Documents/Data/sdss/dr16/sdss/spectro/redux/26/2955/spPlate-2955-54526.fits\n",
      "/Users/weaver/Documents/Data/sdss/dr16/sdss/spectro/redux/26/2955/spZbest-2955-54526.fits\n"
     ]
    }
   ],
   "source": [
    "os.environ['SPECTRO_REDUX'] = os.path.join(os.environ['HOME'], 'Documents', 'Data', 'sdss', 'dr16', 'sdss', 'spectro', 'redux')\n",
    "run2d = '26'\n",
    "plate = '2955'\n",
    "mjd = '54526'\n",
    "sdss_spectra = os.path.join(os.environ['SPECTRO_REDUX'], run2d, plate, f'spPlate-{plate}-{mjd}.fits')\n",
    "sdss_redshifts = os.path.join(os.environ['SPECTRO_REDUX'], run2d, plate, f'spZbest-{plate}-{mjd}.fits')\n",
    "print(sdss_spectra)\n",
    "print(sdss_redshifts)"
   ]
  },
  {
   "cell_type": "code",
   "execution_count": 3,
   "metadata": {},
   "outputs": [
    {
     "name": "stdout",
     "output_type": "stream",
     "text": [
      "/Users/weaver/Documents/Data/sdss/dr16/sdss/spectro/redux/v5_13_0/9599/spPlate-9599-58131.fits\n",
      "/Users/weaver/Documents/Data/sdss/dr16/sdss/spectro/redux/v5_13_0/9599/v5_13_0/spZbest-9599-58131.fits\n"
     ]
    }
   ],
   "source": [
    "run2d = 'v5_13_0'\n",
    "plate = '9599'\n",
    "mjd = '58131'\n",
    "eboss_spectra = os.path.join(os.environ['SPECTRO_REDUX'], run2d, plate, f'spPlate-{plate}-{mjd}.fits')\n",
    "eboss_redshifts = os.path.join(os.environ['SPECTRO_REDUX'], run2d, plate, run2d, f'spZbest-{plate}-{mjd}.fits')\n",
    "print(eboss_spectra)\n",
    "print(eboss_redshifts)"
   ]
  },
  {
   "cell_type": "code",
   "execution_count": null,
   "metadata": {},
   "outputs": [],
   "source": [
    "for f in (desi_spectra, desi_redshifts, sdss_spectra, sdss_redshifts, eboss_spectra, eboss_redshifts);\n",
    "    assert os.path.exists(f)"
   ]
  }
 ],
 "metadata": {
  "kernelspec": {
   "display_name": "DESI prospect",
   "language": "python",
   "name": "desi-prospect"
  },
  "language_info": {
   "codemirror_mode": {
    "name": "ipython",
    "version": 3
   },
   "file_extension": ".py",
   "mimetype": "text/x-python",
   "name": "python",
   "nbconvert_exporter": "python",
   "pygments_lexer": "ipython3",
   "version": "3.6.10"
  }
 },
 "nbformat": 4,
 "nbformat_minor": 4
}
