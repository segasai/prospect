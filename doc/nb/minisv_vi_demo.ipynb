{
 "cells": [
  {
   "cell_type": "markdown",
   "metadata": {},
   "source": [
    "### Example notebook to use prospect to inspect specific spectra\n",
    "\n",
    "In the context of minisv2, March 2020"
   ]
  },
  {
   "cell_type": "code",
   "execution_count": 1,
   "metadata": {},
   "outputs": [],
   "source": [
    "# Load modules :\n",
    "# - use DESI master kernel\n",
    "# - get prospect from desihub : https://github.com/desihub/prospect/tree/minisv\n",
    "#     use the minisv branch (as of early March)\n",
    "#     setup pythonpath, eg :\n",
    "import sys, os\n",
    "sys.path.append(\"/global/homes/a/armengau/prospect/py\")\n",
    "from prospect import plotframes,utils_specviewer,myspecselect\n",
    "import desispec.io\n",
    "from astropy.table import Table, vstack"
   ]
  },
  {
   "cell_type": "code",
   "execution_count": 2,
   "metadata": {},
   "outputs": [
    {
     "name": "stdout",
     "output_type": "stream",
     "text": [
      "Help on function plotspectra in module prospect.plotframes:\n",
      "\n",
      "plotspectra(spectra, nspec=None, startspec=None, zcatalog=None, model_from_zcat=True, model=None, notebook=False, is_coadded=True, title=None, html_dir=None, with_imaging=True, with_noise=True, with_coaddcam=True, mask_type='DESI_TARGET', with_thumb_tab=True, with_vi_widgets=True, with_thumb_only_page=False)\n",
      "    Main prospect routine. From a set of spectra, creates a bokeh document used for VI, to be displayed as an HTML page or within a jupyter notebook.\n",
      "    \n",
      "    Main Parameter\n",
      "    ---------\n",
      "    spectra: input spectra. Supported formats: 1) a 3-band DESI spectra object, with bands 'b', 'r', 'z'. 2) a single-band \n",
      "        DESI spectra object, bandname 'brz'. 2) a list of 3 frames, associated to the b, r and z bands.\n",
      "    zcatalog (default None): astropy Table, containing the 'ZBEST' output redrock. Currently supports only redrock-PCA files.\n",
      "        The entries in zcatalog are matched to spectra with TARGETID, so that each spectrum must have a corresponding entry \n",
      "        in zcatalog (on the other hand zcatalog may targets not included in spectra)\n",
      "    notebook (bool): if True, bokeh outputs the viewer to a notebook, else to a (static) HTML page\n",
      "    html_dir (string): directory to store the HTML page if notebook is False\n",
      "    title (string): title used to name the HTML page / the bokeh figure / the VI file\n",
      "    mask_type : mask type to identify target categories from the fibermap. Available : DESI_TARGET,\n",
      "        SV1_DESI_TARGET, CMX_TARGET. Default : DESI_TARGET.\n",
      "    with_vi_widgets (bool): include widgets used to enter VI informations. Set it to False if you do not intend to \n",
      "        record VI files.\n",
      "    with_thumb_tab (bool): include a tab with thumbnails of spectra in bokeh viewer\n",
      "    with_thumb_only_page (bool): when creating a static HTML (notebook==False), a light HTML page including only the thumb \n",
      "        gallery will also be produced.\n",
      "    \n",
      "    \n",
      "    Less-useful parameters\n",
      "    ---------\n",
      "    nspec: select subsample of spectra, only for frame input\n",
      "    startspec: if nspec is set, subsample selection will be [startspec:startspec+nspec]\n",
      "    model_from_zcat: if True, model spectra will be computed from the input zcatalog\n",
      "    model: if set, use this input set of model spectra (instead of computing it from zcat)\n",
      "        model format (mwave, mflux); model must be entry-matched to zcatalog.\n",
      "    is_coadded : set to True if spectra are coadds\n",
      "    with_imaging : include thumb image from legacysurvey.org\n",
      "    with_noise : include noise for each spectrum\n",
      "    with_coaddcam : include camera-coaddition\n",
      "\n"
     ]
    }
   ],
   "source": [
    "# Prospect's main function usage\n",
    "help(plotframes.plotspectra)"
   ]
  },
  {
   "cell_type": "code",
   "execution_count": 3,
   "metadata": {},
   "outputs": [
    {
     "name": "stdout",
     "output_type": "stream",
     "text": [
      "22 spectra selected\n"
     ]
    }
   ],
   "source": [
    "# 1) Prepare spectra\n",
    "# This is just an example, using Anand's custom coadd files, and making some random selection\n",
    "coadd_dir=\"/global/cscratch1/sd/raichoor/desi_spectro/70002/00052961-00052962-00053122-00053123-00053124-00053125\"\n",
    "coadd_names=[x for x in os.listdir(coadd_dir) if \"coadd\" in x and \".fits\" in x]\n",
    "\n",
    "all_spec = None\n",
    "for thecoadd in coadd_names :\n",
    "    spec = desispec.io.read_spectra(coadd_dir+\"/\"+thecoadd)\n",
    "    spec.fibermap['EXPID'] = spec.fibermap['FIBER']*0 # TMP TRICK (??) seems expid is required for Spectra.update()\n",
    "    if all_spec is None : all_spec = spec\n",
    "    else : all_spec.update(spec)\n",
    "spectra = utils_specviewer.specviewer_selection(all_spec,mask='SV0_QSO', mask_type='CMX_TARGET', gmag_cut=[19,20])\n",
    "print(str(spectra.num_spectra())+\" spectra selected\")"
   ]
  },
  {
   "cell_type": "code",
   "execution_count": 5,
   "metadata": {},
   "outputs": [
    {
     "name": "stdout",
     "output_type": "stream",
     "text": [
      "2500 entries in z catalog\n"
     ]
    }
   ],
   "source": [
    "# 1bis) Prepare redrock table\n",
    "# Optional step (prospect can run with spectra alone)\n",
    "# The table must contain all TargetIDs of selected spectra, but a one-to-one match is not needed\n",
    "zbest_names = [x.replace('coadd','zbest') for x in coadd_names]\n",
    "ztables = []\n",
    "for zz in zbest_names : \n",
    "    ztables.append(Table.read(coadd_dir+\"/\"+zz,'ZBEST'))\n",
    "zcat = vstack(ztables)\n",
    "print(str(len(zcat))+\" entries in z catalog\")"
   ]
  },
  {
   "cell_type": "code",
   "execution_count": null,
   "metadata": {},
   "outputs": [],
   "source": [
    "# 2) Show the viewer\n",
    "# - Use a reasonable amount of spectra to display (few tens..) to limit the amount of data inside the notebook\n",
    "# - Don't forget to specify the mask_type (default is DESI_TARGET)\n",
    "# - Documentation on using the viewer itself is somewhere else...\n",
    "plotframes.plotspectra(spectra, zcatalog=zcat, title='QSOS - 19<g<20', notebook=True, mask_type='CMX_TARGET')"
   ]
  }
 ],
 "metadata": {
  "kernelspec": {
   "display_name": "DESI prospect",
   "language": "python",
   "name": "desi-prospect"
  },
  "language_info": {
   "codemirror_mode": {
    "name": "ipython",
    "version": 3
   },
   "file_extension": ".py",
   "mimetype": "text/x-python",
   "name": "python",
   "nbconvert_exporter": "python",
   "pygments_lexer": "ipython3",
   "version": "3.6.10"
  }
 },
 "nbformat": 4,
 "nbformat_minor": 4
}
